{
  "nbformat": 4,
  "nbformat_minor": 0,
  "metadata": {
    "colab": {
      "provenance": [],
      "authorship_tag": "ABX9TyP9Tn72Fd+hLrmH7nfAKEgQ",
      "include_colab_link": true
    },
    "kernelspec": {
      "name": "python3",
      "display_name": "Python 3"
    },
    "language_info": {
      "name": "python"
    }
  },
  "cells": [
    {
      "cell_type": "markdown",
      "metadata": {
        "id": "view-in-github",
        "colab_type": "text"
      },
      "source": [
        "<a href=\"https://colab.research.google.com/github/toufiqmusah/IndabaX25/blob/main/Neural%20Architecture%20Search%20%26%20Deployment%20Optimization%20-%20Part%204.ipynb\" target=\"_parent\"><img src=\"https://colab.research.google.com/assets/colab-badge.svg\" alt=\"Open In Colab\"/></a>"
      ]
    },
    {
      "cell_type": "markdown",
      "source": [
        "# **Tutorial Title**\n",
        "# **Efficient Deep Learning: Neural Architecture Search & Optimized Model Deployment**"
      ],
      "metadata": {
        "id": "9r1JS1Z2b6fm"
      }
    },
    {
      "cell_type": "markdown",
      "source": [
        "# **Table of Contents**\n",
        "\n",
        "1.   [Introduction](#Introduction)\n",
        "2.   [Prerequisites](#Prerequisites)\n",
        "3.   [Step-by-Step-Guide](#Step-by-Step-Guide)\n",
        "4.   [Code Examples](#Code-Examples)\n",
        "5.   [Troubleshooting](#Troubleshooting)\n",
        "6.   [Conclusion](#Conclusion)\n",
        "7.   [References](#References)"
      ],
      "metadata": {
        "id": "3exRhpCXiZ0M"
      }
    },
    {
      "cell_type": "markdown",
      "source": [
        "# 1. **Neural Architecture Search**"
      ],
      "metadata": {
        "id": "fB5axAYMdiK5"
      }
    },
    {
      "cell_type": "code",
      "source": [
        "!pip -q install keras-tuner"
      ],
      "metadata": {
        "id": "fft2O4xwe5Ec"
      },
      "execution_count": null,
      "outputs": []
    },
    {
      "cell_type": "code",
      "source": [
        "import numpy as np\n",
        "import matplotlib.pyplot as plt\n",
        "\n",
        "import tensorflow as tf\n",
        "import keras_tuner as kt\n",
        "from tensorflow.keras.datasets import cifar10\n",
        "from tensorflow.keras.optimizers import SGD, Adam\n",
        "from tensorflow.keras.metrics import SparseCategoricalAccuracy\n",
        "from tensorflow.keras import layers, models, optimizers, callbacks, regularizers"
      ],
      "metadata": {
        "id": "Cc9tW2zYdpaZ"
      },
      "execution_count": 9,
      "outputs": []
    },
    {
      "cell_type": "code",
      "source": [
        "(x_train, y_train), (x_test, y_test) = cifar10.load_data()"
      ],
      "metadata": {
        "colab": {
          "base_uri": "https://localhost:8080/"
        },
        "id": "6cvXW7SMfGyk",
        "outputId": "21a8734a-ed00-4174-f496-8637a5c7417f"
      },
      "execution_count": 10,
      "outputs": [
        {
          "output_type": "stream",
          "name": "stdout",
          "text": [
            "Downloading data from https://www.cs.toronto.edu/~kriz/cifar-10-python.tar.gz\n",
            "\u001b[1m170498071/170498071\u001b[0m \u001b[32m━━━━━━━━━━━━━━━━━━━━\u001b[0m\u001b[37m\u001b[0m \u001b[1m6s\u001b[0m 0us/step\n"
          ]
        }
      ]
    },
    {
      "cell_type": "code",
      "source": [
        "# model-building function that KerasTuner can use\n",
        "\n",
        "def model_builder(hp):\n",
        "    inputs = tf.keras.Input(shape=(32,32,3))\n",
        "    x = inputs\n",
        "    num_blocks = hp.Int('num_blocks', 2, 4)\n",
        "    for i in range(num_blocks):\n",
        "        filters = hp.Choice(f'filters_{i}', [24,32,40,48,64])\n",
        "        kernel  = hp.Choice(f'kernel_{i}', [3,5])\n",
        "        if hp.Boolean(f'ds_sep_{i}'):\n",
        "            x = tf.keras.layers.SeparableConv2D(filters, kernel,\n",
        "                                                padding='same', activation='relu')(x)\n",
        "        else:\n",
        "            x = tf.keras.layers.Conv2D(filters, kernel,\n",
        "                                       padding='same', activation='relu')(x)\n",
        "        x = tf.keras.layers.BatchNormalization()(x)\n",
        "        x = tf.keras.layers.MaxPool2D()(x)\n",
        "    x = tf.keras.layers.Flatten()(x)\n",
        "    x = tf.keras.layers.Dropout(rate=hp.Float('dropout',0.0,0.3,0.05))(x)\n",
        "    outputs = tf.keras.layers.Dense(10, activation='softmax')(x)\n",
        "    model = tf.keras.Model(inputs, outputs)\n",
        "\n",
        "    lr = hp.Choice('lr',[1e-3, 5e-4, 1e-4])\n",
        "    model.compile(optimizer=tf.keras.optimizers.Adam(lr),\n",
        "                  loss='sparse_categorical_crossentropy',\n",
        "                  metrics=['accuracy'])\n",
        "    return model\n",
        "\n",
        "\n",
        "\n",
        "# instantiating tuner\n",
        "\n",
        "tuner = kt.Hyperband(model_builder,\n",
        "                     objective='val_accuracy',\n",
        "                     max_epochs=2,\n",
        "                     factor=3,\n",
        "                     directory='nas_dir',\n",
        "                     project_name='intro_to_NAS')"
      ],
      "metadata": {
        "id": "s6cDcWmqb54D"
      },
      "execution_count": 11,
      "outputs": []
    },
    {
      "cell_type": "code",
      "execution_count": null,
      "metadata": {
        "id": "LKR1MI31bw7Y"
      },
      "outputs": [],
      "source": [
        "# adding early stopping\n",
        "stop_early = tf.keras.callbacks.EarlyStopping(monitor='val_loss', patience=5)\n",
        "\n",
        "# run NAS\n",
        "print(\"Starting NAS search...\")\n",
        "tuner.search(x_train[:100], y_train[:100], epochs=15, validation_data=(x_test[:20], y_test[:20]), callbacks=[stop_early])\n",
        "print(\"NAS search complete.\")\n",
        "\n",
        "# optimal hyperparameters and the best model\n",
        "best_hps = tuner.get_best_hyperparameters(num_trials=1)[0]\n",
        "nas_model = tuner.hypermodel.build(best_hps)\n",
        "print(f\"Best hyperparameters: {best_hps.values}\")"
      ]
    },
    {
      "cell_type": "code",
      "source": [
        "# train best model found by NAS\n",
        "\n",
        "print(\"Training the best model found by NAS...\")\n",
        "history = nas_model.fit(x_train[:200], y_train[:200], epochs=50, validation_data=(x_test[:40], y_test[:40]))\n",
        "val_acc_per_epoch = history.history['val_accuracy']\n",
        "best_epoch = val_acc_per_epoch.index(max(val_acc_per_epoch)) + 1\n",
        "print(f'Best epoch: {best_epoch}')"
      ],
      "metadata": {
        "id": "J0XcHP55fCy9"
      },
      "execution_count": null,
      "outputs": []
    },
    {
      "cell_type": "code",
      "source": [
        "# re-initialize the model and train up to the best epoch\n",
        "\n",
        "hypermodel = tuner.hypermodel.build(best_hps)\n",
        "print(\"Retraining the best model until the best epoch...\")\n",
        "hypermodel.fit(x_train, y_train, epochs=best_epoch, validation_data=(x_test, y_test))\n",
        "nas_best_model = hypermodel\n",
        "print(\"Best model from NAS is trained and ready.\")\n",
        "\n",
        "# save model\n",
        "nas_best_model.save(\"nas_optimal_model.keras\")"
      ],
      "metadata": {
        "colab": {
          "base_uri": "https://localhost:8080/"
        },
        "id": "9S-dDzdUhUtQ",
        "outputId": "2623e3a8-787d-49e9-ee3e-0fb928e44700"
      },
      "execution_count": null,
      "outputs": [
        {
          "output_type": "stream",
          "name": "stdout",
          "text": [
            "Retraining the best model until the best epoch...\n",
            "Epoch 1/22\n",
            "\u001b[1m1563/1563\u001b[0m \u001b[32m━━━━━━━━━━━━━━━━━━━━\u001b[0m\u001b[37m\u001b[0m \u001b[1m186s\u001b[0m 116ms/step - accuracy: 0.4003 - loss: 1.7295 - val_accuracy: 0.4371 - val_loss: 1.7215\n",
            "Epoch 2/22\n",
            "\u001b[1m1563/1563\u001b[0m \u001b[32m━━━━━━━━━━━━━━━━━━━━\u001b[0m\u001b[37m\u001b[0m \u001b[1m190s\u001b[0m 108ms/step - accuracy: 0.6240 - loss: 1.0592 - val_accuracy: 0.6202 - val_loss: 1.0790\n",
            "Epoch 3/22\n"
          ]
        }
      ]
    },
    {
      "cell_type": "code",
      "source": [],
      "metadata": {
        "id": "YiEvP-JUiNGz"
      },
      "execution_count": null,
      "outputs": []
    }
  ]
}