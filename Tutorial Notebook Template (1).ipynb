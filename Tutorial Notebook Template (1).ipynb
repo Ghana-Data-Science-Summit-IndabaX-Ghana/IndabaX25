{
  "metadata": {
    "kernelspec": {
      "name": "python",
      "display_name": "Python (Pyodide)",
      "language": "python"
    },
    "language_info": {
      "codemirror_mode": {
        "name": "python",
        "version": 3
      },
      "file_extension": ".py",
      "mimetype": "text/x-python",
      "name": "python",
      "nbconvert_exporter": "python",
      "pygments_lexer": "ipython3",
      "version": "3.8"
    }
  },
  "nbformat_minor": 5,
  "nbformat": 4,
  "cells": [
    {
      "id": "8bd3a486-36c6-4c20-94d7-a30271ad011d",
      "cell_type": "markdown",
      "source": "# **Tutorial Title**\n\n## **List comprehensions are fast, but generators are faster!?**",
      "metadata": {}
    },
    {
      "id": "a4348ff2-2146-4305-8999-191a8e9c4cc7",
      "cell_type": "markdown",
      "source": "# **Table of Contents**\n\n1.   [Introduction](#Introduction)\n2.   [Prerequisites](#Prerequisites)\n3.   [Step-by-Step-Guide](#Step-by-Step-Guide)\n4.   [Code Examples](#Code-Examples)\n5.   [Troubleshooting](#Troubleshooting)\n6.   [Conclusion](#Conclusion)\n7.   [References](#References)",
      "metadata": {}
    },
    {
      "id": "a1b8a541-a2e4-4886-b42e-4126d9fb9d7a",
      "cell_type": "markdown",
      "source": "## **Introduction**\n\n\"List comprehensions are fast, but generators are faster!?\" - No, not really (or significantly, see the benchmarks below). So what's the reason to prefer one over the other?\n\nuse lists if you want to use the plethora of list methods\nuse generators when you are dealing with huge collections to avoid memory issues",
      "metadata": {}
    },
    {
      "id": "70b84706-8034-464e-aeb9-3a40249370df",
      "cell_type": "markdown",
      "source": "## **Prerequisites**\n\nBefore diving into comparisons, readers should be familiar with:\n\nPython lists and iteration\n\nList comprehensions and generator expressions\n\nThe concept of memory management in Python",
      "metadata": {}
    },
    {
      "id": "3a37af23-9129-4e73-88a0-b8714f639416",
      "cell_type": "markdown",
      "source": "<a id='guide'></a>\n## **Step-by-Step Guide**\n\nThis section breaks down the differences between list comprehensions and generators, explaining their memory usage, execution speed, and efficiency with large datasets. A comparison of how each structure handles iteration will be provided.",
      "metadata": {}
    },
    {
      "id": "b82436ec-e867-4841-966b-9c3fd6280850",
      "cell_type": "markdown",
      "source": "## **Code Examples**",
      "metadata": {}
    },
    {
      "id": "05df820e-c75f-4f72-9be3-8040a9eb9c9c",
      "cell_type": "code",
      "source": "import timeit\n\n\ndef plainlist(n=100000):\n    my_list = []\n    for i in range(n):\n        if i % 5 == 0:\n            my_list.append(i)\n    return my_list\n\n\ndef listcompr(n=100000):\n    my_list = [i for i in range(n) if i % 5 == 0]\n    return my_list\n\n\ndef generator(n=100000):\n    my_gen = (i for i in range(n) if i % 5 == 0)\n    return my_gen\n\n\ndef generator_yield(n=100000):\n    for i in range(n):\n        if i % 5 == 0:\n            yield i",
      "metadata": {
        "trusted": true
      },
      "outputs": [],
      "execution_count": 2
    },
    {
      "id": "acc822ff-e260-4ddc-91c3-4347d6a7fff6",
      "cell_type": "markdown",
      "source": "**To be fair to the list, let us exhaust the generators:**",
      "metadata": {}
    },
    {
      "id": "81c397af-393a-4339-a265-5d86b8db73b8",
      "cell_type": "code",
      "source": "def test_plainlist(plain_list):\n    for i in plain_list():\n        pass\n\n\ndef test_listcompr(listcompr):\n    for i in listcompr():\n        pass\n\n\ndef test_generator(generator):\n    for i in generator():\n        pass\n\n\ndef test_generator_yield(generator_yield):\n    for i in generator_yield():\n        pass\n\n\nprint('plain_list:     ', end='')\n%timeit test_plainlist(plainlist)\nprint('\\nlistcompr:     ', end='')\n%timeit test_listcompr(listcompr)\nprint('\\ngenerator:     ', end='')\n%timeit test_generator(generator)\nprint('\\ngenerator_yield:     ', end='')\n%timeit test_generator_yield(generator_yield)",
      "metadata": {
        "trusted": true
      },
      "outputs": [
        {
          "name": "stdout",
          "output_type": "stream",
          "text": "plain_list:     126 ms ± 34.7 ms per loop (mean ± std. dev. of 7 runs, 1 loop each)\n\n86.7 ms ± 31.7 ms per loop (mean ± std. dev. of 7 runs, 10 loops each)\n\n82.8 ms ± 22.7 ms per loop (mean ± std. dev. of 7 runs, 10 loops each)\n\nThe slowest run took 4.59 times longer than the fastest. This could mean that an intermediate result is being cached.\n160 ms ± 95.3 ms per loop (mean ± std. dev. of 7 runs, 10 loops each)\n"
        }
      ],
      "execution_count": 3
    },
    {
      "id": "6207c961-9400-43bf-8b3d-68b1d386d0b5",
      "cell_type": "markdown",
      "source": "## **Troubleshooting**\n\nCommon pitfalls when working with generators and list comprehensions, such as:\n\nWhy generators don’t support indexing\n\n*   How to convert a generator to a list when needed\n*   Debugging performance issues in large data processing\n",
      "metadata": {}
    },
    {
      "id": "b21e5569-95d9-4a75-8c22-751b3c05a02f",
      "cell_type": "markdown",
      "source": "## **Conclusion**\n\nA summary of key takeaways, reinforcing that while list comprehensions are faster for small datasets, generators excel in memory efficiency for large data streams. A recommendation on when to use each method will be provided.",
      "metadata": {}
    },
    {
      "id": "4b9704f8-cc01-4159-841f-de6d7973e92b",
      "cell_type": "markdown",
      "source": "## **References**\n\nLinks to Python documentation, performance benchmarking resources, and other relevant articles for further reading.",
      "metadata": {}
    },
    {
      "id": "8b7c0266-7f5b-4247-ac36-c6b44f90bf03",
      "cell_type": "markdown",
      "source": "# **Facilitator(s) Details**\n\n**Facilitator(s):**\n\n*   Name: [Facilitator's Name]\n*   Email: [Facilitator's Email]\n*   LinkedIn: [Facilitator's LinkedIn]\n",
      "metadata": {}
    },
    {
      "id": "7257b3a4-6572-417d-8b22-b53efb4bd6b2",
      "cell_type": "markdown",
      "source": "# **Reviewer’s Name**\n\n*   Name: [Reviewer’s Name]",
      "metadata": {}
    },
    {
      "id": "c22f7673-72d0-4bf2-bc87-f9c7c2c4b32c",
      "cell_type": "code",
      "source": "",
      "metadata": {
        "trusted": true
      },
      "outputs": [],
      "execution_count": null
    }
  ]
}