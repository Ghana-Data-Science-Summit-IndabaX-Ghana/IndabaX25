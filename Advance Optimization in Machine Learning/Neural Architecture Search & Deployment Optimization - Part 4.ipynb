{
  "cells": [
    {
      "cell_type": "markdown",
      "metadata": {
        "colab_type": "text",
        "id": "view-in-github"
      },
      "source": [
        "<a href=\"https://colab.research.google.com/github/toufiqmusah/IndabaX25/blob/main/Neural%20Architecture%20Search%20%26%20Deployment%20Optimization%20-%20Part%204\" target=\"_parent\"><img src=\"https://colab.research.google.com/assets/colab-badge.svg\" alt=\"Open In Colab\"/></a>"
      ]
    },
    {
      "cell_type": "markdown",
      "metadata": {
        "id": "QgVlg2fC37Ps"
      },
      "source": [
        "---\n",
        "# **Efficient Deep Learning: Neural Architecture Search & Optimized Model Deployment** - Part 4\n",
        "\n",
        "#### Program: `Deep Learning Indabax, Ghana, 2025` .\n",
        "#### 🏫 Institution: Kumasu Centre for Collaborative Research in Tropical Medicine (KCCR)\n",
        "#### 📅 Date: `*16 th June, 2025`\n",
        "\n",
        "---\n",
        "\n",
        "##### 👨‍🏫 Facilitator: Toufiq Musah       \n",
        "\n",
        "**Research Engineering**  \n",
        "\n",
        "✉️ Email: [toufiq Musah](toufiqmusah32@gmail.com)  \n",
        "🔗 LinkedIn: [toufiq](https://www.linkedin.com/in/toufiqmusah/)\n",
        "\n",
        "---\n",
        "### 🛠️ Tools and  Frameworks used  \n",
        "\n",
        "- Python 3.x .\n",
        "- TensorFlow 2.x / Keras\n",
        "- Keras-Tuner for Parameterization\n",
        "- Matplotlib / Seaborn for Visualization\n",
        "\n",
        "---"
      ]
    },
    {
      "cell_type": "markdown",
      "metadata": {
        "id": "3exRhpCXiZ0M"
      },
      "source": [
        "# **Table of Contents**\n",
        "\n",
        "1.   [Introduction](#Introduction)\n",
        "2.   [Prerequisites](#Prerequisites)\n",
        "3.   [Step-by-Step-Guide](#Step-by-Step-Guide)\n",
        "4.   [Code Examples](#Code-Examples)\n",
        "5.   [Troubleshooting](#Troubleshooting)\n",
        "6.   [Conclusion](#Conclusion)\n",
        "7.   [References](#References)"
      ]
    },
    {
      "cell_type": "markdown",
      "metadata": {
        "id": "fB5axAYMdiK5"
      },
      "source": [
        "# 1. **Neural Architecture Search**\n"
      ]
    },
    {
      "cell_type": "markdown",
      "metadata": {
        "id": "4-XQlZWx4tLe"
      },
      "source": [
        " *Why automate the design of the network itself?*\n",
        "\n",
        "**Definition.** Neural Architecture Search (NAS) is an automated procedure that explores a *search space* of possible layer topologies and operations, trains many candidate networks, and selects the one that best optimises a user-defined objective (accuracy, latency, memory, …).\n",
        "\n",
        "**How it differs from hyper-parameter optimisation.**  \n",
        "NAS, in contrast to hyperparameterisation, can change the entire structure of a network (example; how many stages, which kernel size per block), instead of finetuning a given architecture.\n",
        "\n",
        "---\n",
        "\n",
        "#### **Example 1 – MnasNet: Reinforcement-Learning NAS**\n",
        "Google’s **MnasNet** used a policy-gradient RL agent to sample entire mobile CNNs, training 8000 candidates and rewarding those with high ImageNet accuracy *and* low real-device latency.\n",
        "\n",
        "#### **Example 2 – EfficientNet: NAS Baseline + Compound Scaling**\n",
        "EfficientNet begins with **EfficientNet-B0**, *exactly* the architecture produced by MnasNet’s RL search. The authors then introduced a *compound scaling* rule to simultaneously widen, deepen, and increase input resolution, generating B1–B7 models that set new ImageNet efficiency records.\n",
        "\n",
        "---\n",
        "> **Take-away:** NAS automates decisions at the structural level—creating novel cells and macro layouts—whereas classical hyper-parameter search rather fine-tunes numeric settings inside a hand-crafted design.\n"
      ]
    },
    {
      "cell_type": "code",
      "execution_count": 1,
      "metadata": {
        "colab": {
          "base_uri": "https://localhost:8080/"
        },
        "id": "fft2O4xwe5Ec",
        "outputId": "2592e9a9-dc3a-4409-97fe-cfc6694cd8cd"
      },
      "outputs": [
        {
          "name": "stdout",
          "output_type": "stream",
          "text": [
            "\n",
            "\u001b[1m[\u001b[0m\u001b[34;49mnotice\u001b[0m\u001b[1;39;49m]\u001b[0m\u001b[39;49m A new release of pip is available: \u001b[0m\u001b[31;49m25.0.1\u001b[0m\u001b[39;49m -> \u001b[0m\u001b[32;49m25.1.1\u001b[0m\n",
            "\u001b[1m[\u001b[0m\u001b[34;49mnotice\u001b[0m\u001b[1;39;49m]\u001b[0m\u001b[39;49m To update, run: \u001b[0m\u001b[32;49mpython3 -m pip install --upgrade pip\u001b[0m\n"
          ]
        }
      ],
      "source": [
        "!pip -q install keras-tuner"
      ]
    },
    {
      "cell_type": "code",
      "execution_count": 2,
      "metadata": {
        "id": "Cc9tW2zYdpaZ"
      },
      "outputs": [
        {
          "name": "stderr",
          "output_type": "stream",
          "text": [
            "2025-06-06 16:21:50.526774: I tensorflow/core/util/port.cc:153] oneDNN custom operations are on. You may see slightly different numerical results due to floating-point round-off errors from different computation orders. To turn them off, set the environment variable `TF_ENABLE_ONEDNN_OPTS=0`.\n",
            "2025-06-06 16:21:50.528751: I external/local_xla/xla/tsl/cuda/cudart_stub.cc:32] Could not find cuda drivers on your machine, GPU will not be used.\n",
            "2025-06-06 16:21:50.532159: I external/local_xla/xla/tsl/cuda/cudart_stub.cc:32] Could not find cuda drivers on your machine, GPU will not be used.\n",
            "2025-06-06 16:21:50.540947: E external/local_xla/xla/stream_executor/cuda/cuda_fft.cc:467] Unable to register cuFFT factory: Attempting to register factory for plugin cuFFT when one has already been registered\n",
            "WARNING: All log messages before absl::InitializeLog() is called are written to STDERR\n",
            "E0000 00:00:1749226910.555392   24860 cuda_dnn.cc:8579] Unable to register cuDNN factory: Attempting to register factory for plugin cuDNN when one has already been registered\n",
            "E0000 00:00:1749226910.559754   24860 cuda_blas.cc:1407] Unable to register cuBLAS factory: Attempting to register factory for plugin cuBLAS when one has already been registered\n",
            "W0000 00:00:1749226910.571243   24860 computation_placer.cc:177] computation placer already registered. Please check linkage and avoid linking the same target more than once.\n",
            "W0000 00:00:1749226910.571256   24860 computation_placer.cc:177] computation placer already registered. Please check linkage and avoid linking the same target more than once.\n",
            "W0000 00:00:1749226910.571258   24860 computation_placer.cc:177] computation placer already registered. Please check linkage and avoid linking the same target more than once.\n",
            "W0000 00:00:1749226910.571259   24860 computation_placer.cc:177] computation placer already registered. Please check linkage and avoid linking the same target more than once.\n",
            "2025-06-06 16:21:50.575309: I tensorflow/core/platform/cpu_feature_guard.cc:210] This TensorFlow binary is optimized to use available CPU instructions in performance-critical operations.\n",
            "To enable the following instructions: AVX2 AVX512F AVX512_VNNI FMA, in other operations, rebuild TensorFlow with the appropriate compiler flags.\n"
          ]
        }
      ],
      "source": [
        "import numpy as np\n",
        "import pandas as pd\n",
        "import matplotlib.pyplot as plt\n",
        "\n",
        "import tensorflow as tf\n",
        "import keras_tuner as kt\n",
        "from tensorflow.keras.datasets import cifar10\n",
        "from tensorflow.keras.optimizers import SGD, Adam\n",
        "from tensorflow.keras.metrics import SparseCategoricalAccuracy\n",
        "from tensorflow.keras import layers, models, optimizers, callbacks, regularizers\n",
        "\n",
        "from sklearn.model_selection import train_test_split"
      ]
    },
    {
      "cell_type": "code",
      "execution_count": 3,
      "metadata": {
        "id": "nP_C_fLRnBna"
      },
      "outputs": [],
      "source": [
        "# The Cancer Genome Atlas, Breast Cancer Dataset\n",
        "# reviewer_comment: missing import- !pip install gdown\n",
        "!gdown -q '1odEM4UcDSnc_Yo8I6YeIa128d271k9q-'"
      ]
    },
    {
      "cell_type": "markdown",
      "metadata": {
        "id": "gBJmlF230tfq"
      },
      "source": [
        "### The Cancer Genomics Archive - Breast Cancer Omics Dataset\n",
        "This is a **high dimensional** type of dataset, often requiring rigourous optimization techniques for the best of results."
      ]
    },
    {
      "cell_type": "code",
      "execution_count": 4,
      "metadata": {
        "colab": {
          "base_uri": "https://localhost:8080/",
          "height": 253
        },
        "id": "CEH-2AKDnTMo",
        "outputId": "a0799daa-a650-46ad-cc05-7438e0ce5187"
      },
      "outputs": [
        {
          "data": {
            "text/html": [
              "<div>\n",
              "<style scoped>\n",
              "    .dataframe tbody tr th:only-of-type {\n",
              "        vertical-align: middle;\n",
              "    }\n",
              "\n",
              "    .dataframe tbody tr th {\n",
              "        vertical-align: top;\n",
              "    }\n",
              "\n",
              "    .dataframe thead th {\n",
              "        text-align: right;\n",
              "    }\n",
              "</style>\n",
              "<table border=\"1\" class=\"dataframe\">\n",
              "  <thead>\n",
              "    <tr style=\"text-align: right;\">\n",
              "      <th></th>\n",
              "      <th>rs_CLEC3A</th>\n",
              "      <th>rs_CPB1</th>\n",
              "      <th>rs_SCGB2A2</th>\n",
              "      <th>rs_SCGB1D2</th>\n",
              "      <th>rs_TFF1</th>\n",
              "      <th>rs_MUCL1</th>\n",
              "      <th>rs_GSTM1</th>\n",
              "      <th>rs_PIP</th>\n",
              "      <th>rs_ADIPOQ</th>\n",
              "      <th>rs_ADH1B</th>\n",
              "      <th>...</th>\n",
              "      <th>pp_p27.pT198</th>\n",
              "      <th>pp_p38.MAPK</th>\n",
              "      <th>pp_p38.pT180.Y182</th>\n",
              "      <th>pp_p53</th>\n",
              "      <th>pp_p62.LCK.ligand</th>\n",
              "      <th>pp_p70S6K</th>\n",
              "      <th>pp_p70S6K.pT389</th>\n",
              "      <th>pp_p90RSK</th>\n",
              "      <th>pp_p90RSK.pT359.S363</th>\n",
              "      <th>vital.status</th>\n",
              "    </tr>\n",
              "  </thead>\n",
              "  <tbody>\n",
              "    <tr>\n",
              "      <th>0</th>\n",
              "      <td>0.892818</td>\n",
              "      <td>6.580103</td>\n",
              "      <td>14.123672</td>\n",
              "      <td>10.606501</td>\n",
              "      <td>13.189237</td>\n",
              "      <td>6.649466</td>\n",
              "      <td>10.520335</td>\n",
              "      <td>10.338490</td>\n",
              "      <td>10.248379</td>\n",
              "      <td>10.229970</td>\n",
              "      <td>...</td>\n",
              "      <td>-0.043330</td>\n",
              "      <td>-0.002598</td>\n",
              "      <td>0.449228</td>\n",
              "      <td>-0.375230</td>\n",
              "      <td>-0.691766</td>\n",
              "      <td>-0.337863</td>\n",
              "      <td>-0.178503</td>\n",
              "      <td>0.011638</td>\n",
              "      <td>-0.207257</td>\n",
              "      <td>0</td>\n",
              "    </tr>\n",
              "    <tr>\n",
              "      <th>1</th>\n",
              "      <td>0.000000</td>\n",
              "      <td>3.691311</td>\n",
              "      <td>17.116090</td>\n",
              "      <td>15.517231</td>\n",
              "      <td>9.867616</td>\n",
              "      <td>9.691667</td>\n",
              "      <td>8.179522</td>\n",
              "      <td>7.911723</td>\n",
              "      <td>1.289598</td>\n",
              "      <td>1.818891</td>\n",
              "      <td>...</td>\n",
              "      <td>-0.220764</td>\n",
              "      <td>0.220809</td>\n",
              "      <td>1.035115</td>\n",
              "      <td>-0.074136</td>\n",
              "      <td>0.279067</td>\n",
              "      <td>0.292925</td>\n",
              "      <td>-0.155242</td>\n",
              "      <td>-0.089365</td>\n",
              "      <td>0.267530</td>\n",
              "      <td>0</td>\n",
              "    </tr>\n",
              "    <tr>\n",
              "      <th>2</th>\n",
              "      <td>3.748150</td>\n",
              "      <td>4.375255</td>\n",
              "      <td>9.658123</td>\n",
              "      <td>5.326983</td>\n",
              "      <td>12.109539</td>\n",
              "      <td>11.644307</td>\n",
              "      <td>10.517330</td>\n",
              "      <td>5.114925</td>\n",
              "      <td>11.975349</td>\n",
              "      <td>11.911437</td>\n",
              "      <td>...</td>\n",
              "      <td>0.010615</td>\n",
              "      <td>-0.133214</td>\n",
              "      <td>0.344969</td>\n",
              "      <td>-0.351936</td>\n",
              "      <td>0.219910</td>\n",
              "      <td>0.308110</td>\n",
              "      <td>-0.190794</td>\n",
              "      <td>-0.222150</td>\n",
              "      <td>-0.198518</td>\n",
              "      <td>0</td>\n",
              "    </tr>\n",
              "    <tr>\n",
              "      <th>3</th>\n",
              "      <td>0.000000</td>\n",
              "      <td>18.235519</td>\n",
              "      <td>18.535480</td>\n",
              "      <td>14.533584</td>\n",
              "      <td>14.078992</td>\n",
              "      <td>8.913760</td>\n",
              "      <td>10.557465</td>\n",
              "      <td>13.304434</td>\n",
              "      <td>8.205059</td>\n",
              "      <td>9.211476</td>\n",
              "      <td>...</td>\n",
              "      <td>0.064070</td>\n",
              "      <td>-0.384008</td>\n",
              "      <td>0.678042</td>\n",
              "      <td>0.096329</td>\n",
              "      <td>-0.266554</td>\n",
              "      <td>-0.079871</td>\n",
              "      <td>-0.463237</td>\n",
              "      <td>0.522998</td>\n",
              "      <td>-0.046902</td>\n",
              "      <td>0</td>\n",
              "    </tr>\n",
              "    <tr>\n",
              "      <th>4</th>\n",
              "      <td>0.000000</td>\n",
              "      <td>4.583724</td>\n",
              "      <td>15.711865</td>\n",
              "      <td>12.804521</td>\n",
              "      <td>8.881669</td>\n",
              "      <td>8.430028</td>\n",
              "      <td>12.964607</td>\n",
              "      <td>6.806517</td>\n",
              "      <td>4.294341</td>\n",
              "      <td>5.385714</td>\n",
              "      <td>...</td>\n",
              "      <td>-0.065488</td>\n",
              "      <td>0.209858</td>\n",
              "      <td>0.920408</td>\n",
              "      <td>0.042210</td>\n",
              "      <td>-0.441542</td>\n",
              "      <td>-0.152317</td>\n",
              "      <td>0.511386</td>\n",
              "      <td>-0.096482</td>\n",
              "      <td>0.037473</td>\n",
              "      <td>0</td>\n",
              "    </tr>\n",
              "  </tbody>\n",
              "</table>\n",
              "<p>5 rows × 1937 columns</p>\n",
              "</div>"
            ],
            "text/plain": [
              "   rs_CLEC3A    rs_CPB1  rs_SCGB2A2  rs_SCGB1D2    rs_TFF1   rs_MUCL1  \\\n",
              "0   0.892818   6.580103   14.123672   10.606501  13.189237   6.649466   \n",
              "1   0.000000   3.691311   17.116090   15.517231   9.867616   9.691667   \n",
              "2   3.748150   4.375255    9.658123    5.326983  12.109539  11.644307   \n",
              "3   0.000000  18.235519   18.535480   14.533584  14.078992   8.913760   \n",
              "4   0.000000   4.583724   15.711865   12.804521   8.881669   8.430028   \n",
              "\n",
              "    rs_GSTM1     rs_PIP  rs_ADIPOQ   rs_ADH1B  ...  pp_p27.pT198  pp_p38.MAPK  \\\n",
              "0  10.520335  10.338490  10.248379  10.229970  ...     -0.043330    -0.002598   \n",
              "1   8.179522   7.911723   1.289598   1.818891  ...     -0.220764     0.220809   \n",
              "2  10.517330   5.114925  11.975349  11.911437  ...      0.010615    -0.133214   \n",
              "3  10.557465  13.304434   8.205059   9.211476  ...      0.064070    -0.384008   \n",
              "4  12.964607   6.806517   4.294341   5.385714  ...     -0.065488     0.209858   \n",
              "\n",
              "   pp_p38.pT180.Y182    pp_p53  pp_p62.LCK.ligand  pp_p70S6K  pp_p70S6K.pT389  \\\n",
              "0           0.449228 -0.375230          -0.691766  -0.337863        -0.178503   \n",
              "1           1.035115 -0.074136           0.279067   0.292925        -0.155242   \n",
              "2           0.344969 -0.351936           0.219910   0.308110        -0.190794   \n",
              "3           0.678042  0.096329          -0.266554  -0.079871        -0.463237   \n",
              "4           0.920408  0.042210          -0.441542  -0.152317         0.511386   \n",
              "\n",
              "   pp_p90RSK  pp_p90RSK.pT359.S363  vital.status  \n",
              "0   0.011638             -0.207257             0  \n",
              "1  -0.089365              0.267530             0  \n",
              "2  -0.222150             -0.198518             0  \n",
              "3   0.522998             -0.046902             0  \n",
              "4  -0.096482              0.037473             0  \n",
              "\n",
              "[5 rows x 1937 columns]"
            ]
          },
          "execution_count": 4,
          "metadata": {},
          "output_type": "execute_result"
        }
      ],
      "source": [
        "data = pd.read_csv('TCGA-BRCA-dataset.csv')\n",
        "data.head()"
      ]
    },
    {
      "cell_type": "code",
      "execution_count": 5,
      "metadata": {
        "colab": {
          "base_uri": "https://localhost:8080/"
        },
        "id": "ceSDVoIknx7n",
        "outputId": "f2923075-f815-433c-814c-8b6079905055"
      },
      "outputs": [
        {
          "data": {
            "text/plain": [
              "((564, 1936), (564,), (141, 1936), (141,))"
            ]
          },
          "execution_count": 5,
          "metadata": {},
          "output_type": "execute_result"
        }
      ],
      "source": [
        "(x_train, x_test, y_train, y_test) = train_test_split(data.drop('vital.status', axis=1), data['vital.status'], test_size=0.2, random_state=42)\n",
        "x_train.shape, y_train.shape, x_test.shape, y_test.shape"
      ]
    },
    {
      "cell_type": "code",
      "execution_count": 10,
      "metadata": {
        "colab": {
          "base_uri": "https://localhost:8080/",
          "height": 35
        },
        "id": "hfS-PGdUoz11",
        "outputId": "b0b81ff5-7332-47b8-ef77-c2e85ecffc9e"
      },
      "outputs": [
        {
          "data": {
            "application/vnd.google.colaboratory.intrinsic+json": {
              "type": "string"
            },
            "text/plain": [
              "'x_train = np.expand_dims(x_train, axis=2)\\nx_test = np.expand_dims(x_test, axis=2)'"
            ]
          },
          "execution_count": 10,
          "metadata": {},
          "output_type": "execute_result"
        }
      ],
      "source": [
        "'''x_train = np.expand_dims(x_train, axis=2)\n",
        "x_test = np.expand_dims(x_test, axis=2)'''"
      ]
    },
    {
      "cell_type": "markdown",
      "metadata": {
        "id": "ExNtLjp_1R7L"
      },
      "source": [
        "### **NAS Model Building Function**\n",
        "\n",
        "### Defining the Search Space\n",
        "\n",
        "A compact **MobileNet‑style** search space:\n",
        "\n",
        "| Hyper‑parameter | Choices |\n",
        "|-----------------|---------|\n",
        "| Number of Conv Blocks | 2 – 4 |\n",
        "| Filters per Block     | 24 – 64 |\n",
        "| Kernel Size           | 2, 3, or 5 |\n",
        "| Depthwise Separable?  | {True, False} |\n",
        "| Dropout Rate          | 0.0 – 0.3 |"
      ]
    },
    {
      "cell_type": "code",
      "execution_count": 6,
      "metadata": {
        "id": "s6cDcWmqb54D"
      },
      "outputs": [
        {
          "name": "stderr",
          "output_type": "stream",
          "text": [
            "2025-06-06 16:24:25.701382: E external/local_xla/xla/stream_executor/cuda/cuda_platform.cc:51] failed call to cuInit: INTERNAL: CUDA error: Failed call to cuInit: UNKNOWN ERROR (303)\n"
          ]
        }
      ],
      "source": [
        "# model-building function that KerasTuner can use\n",
        "\n",
        "def model_builder(hp):\n",
        "    inputs = tf.keras.Input(shape=(x_train.shape[1], 1))\n",
        "    x = inputs\n",
        "    num_blocks = hp.Int('num_blocks', 2, 4, 6)\n",
        "    for i in range(num_blocks):\n",
        "        filters = hp.Choice(f'filters_{i}', [24,32,40,48,64])\n",
        "        kernel  = hp.Choice(f'kernel_{i}', [2,3,5])\n",
        "        if hp.Boolean(f'ds_sep_{i}'):\n",
        "            x = tf.keras.layers.SeparableConv1D(filters, kernel,\n",
        "                                                padding='same', activation='relu')(x)\n",
        "        else:\n",
        "            x = tf.keras.layers.Conv1D(filters, kernel,\n",
        "                                       padding='same', activation='relu')(x)\n",
        "        x = tf.keras.layers.BatchNormalization()(x)\n",
        "        x = tf.keras.layers.MaxPool1D()(x)\n",
        "    x = tf.keras.layers.Flatten()(x)\n",
        "    x = tf.keras.layers.Dropout(rate=hp.Float('dropout',0.0,0.3,0.05))(x)\n",
        "    outputs = tf.keras.layers.Dense(10, activation='softmax')(x)\n",
        "    model = tf.keras.Model(inputs, outputs)\n",
        "\n",
        "    lr = hp.Choice('lr',[1e-3, 5e-4, 1e-4])\n",
        "    model.compile(optimizer=tf.keras.optimizers.Adam(lr),\n",
        "                  loss='sparse_categorical_crossentropy',\n",
        "                  metrics=['accuracy'])\n",
        "    return model\n",
        "\n",
        "\n",
        "\n",
        "# instantiating tuner\n",
        "\n",
        "tuner = kt.Hyperband(model_builder,\n",
        "                     objective='val_accuracy',\n",
        "                     max_epochs=2,\n",
        "                     factor=3,\n",
        "                     directory='nas_dir',\n",
        "                     overwrite=True,\n",
        "                     project_name='intro_to_NAS')"
      ]
    },
    {
      "cell_type": "code",
      "execution_count": 7,
      "metadata": {
        "id": "LKR1MI31bw7Y"
      },
      "outputs": [
        {
          "name": "stdout",
          "output_type": "stream",
          "text": [
            "Trial 2 Complete [00h 00m 06s]\n",
            "val_accuracy: 0.8865247964859009\n",
            "\n",
            "Best val_accuracy So Far: 0.8865247964859009\n",
            "Total elapsed time: 00h 00m 12s\n",
            "NAS search complete.\n",
            "Best hyperparameters: {'num_blocks': 2, 'filters_0': 64, 'kernel_0': 5, 'ds_sep_0': False, 'filters_1': 64, 'kernel_1': 2, 'ds_sep_1': False, 'dropout': 0.05, 'lr': 0.0001, 'tuner/epochs': 2, 'tuner/initial_epoch': 0, 'tuner/bracket': 0, 'tuner/round': 0}\n"
          ]
        }
      ],
      "source": [
        "# adding early stopping\n",
        "stop_early = tf.keras.callbacks.EarlyStopping(monitor='val_loss', patience=5)\n",
        "\n",
        "# run NAS\n",
        "print(\"Starting NAS search...\")\n",
        "tuner.search(x_train, y_train, epochs=4, validation_data=(x_test, y_test), callbacks=[stop_early])\n",
        "print(\"NAS search complete.\")\n",
        "\n",
        "# optimal hyperparameters and the best model\n",
        "best_hps = tuner.get_best_hyperparameters(num_trials=1)[0]\n",
        "nas_model = tuner.hypermodel.build(best_hps)\n",
        "print(f\"Best hyperparameters: {best_hps.values}\")"
      ]
    },
    {
      "cell_type": "code",
      "execution_count": 8,
      "metadata": {
        "id": "Zl04dDVcsQfP"
      },
      "outputs": [],
      "source": [
        "# !rm -rf nas_dir"
      ]
    },
    {
      "cell_type": "code",
      "execution_count": 8,
      "metadata": {
        "id": "J0XcHP55fCy9"
      },
      "outputs": [
        {
          "name": "stdout",
          "output_type": "stream",
          "text": [
            "Training the best model found by NAS...\n",
            "Epoch 1/5\n",
            "\u001b[1m18/18\u001b[0m \u001b[32m━━━━━━━━━━━━━━━━━━━━\u001b[0m\u001b[37m\u001b[0m \u001b[1m3s\u001b[0m 102ms/step - accuracy: 0.6773 - loss: 0.9069 - val_accuracy: 0.3333 - val_loss: 0.7549\n",
            "Epoch 2/5\n",
            "\u001b[1m18/18\u001b[0m \u001b[32m━━━━━━━━━━━━━━━━━━━━\u001b[0m\u001b[37m\u001b[0m \u001b[1m2s\u001b[0m 101ms/step - accuracy: 0.8597 - loss: 0.4338 - val_accuracy: 0.8227 - val_loss: 0.5722\n",
            "Epoch 3/5\n",
            "\u001b[1m18/18\u001b[0m \u001b[32m━━━━━━━━━━━━━━━━━━━━\u001b[0m\u001b[37m\u001b[0m \u001b[1m2s\u001b[0m 90ms/step - accuracy: 0.8981 - loss: 0.2699 - val_accuracy: 0.2199 - val_loss: 0.8328\n",
            "Epoch 4/5\n",
            "\u001b[1m18/18\u001b[0m \u001b[32m━━━━━━━━━━━━━━━━━━━━\u001b[0m\u001b[37m\u001b[0m \u001b[1m2s\u001b[0m 91ms/step - accuracy: 0.9043 - loss: 0.2719 - val_accuracy: 0.8794 - val_loss: 0.4596\n",
            "Epoch 5/5\n",
            "\u001b[1m18/18\u001b[0m \u001b[32m━━━━━━━━━━━━━━━━━━━━\u001b[0m\u001b[37m\u001b[0m \u001b[1m2s\u001b[0m 87ms/step - accuracy: 0.9275 - loss: 0.1996 - val_accuracy: 0.8794 - val_loss: 0.4736\n",
            "Best epoch: 4\n"
          ]
        }
      ],
      "source": [
        "# train best model found by NAS\n",
        "\n",
        "print(\"Training the best model found by NAS...\")\n",
        "history = nas_model.fit(x_train, y_train, epochs=5, validation_data=(x_test, y_test))\n",
        "val_acc_per_epoch = history.history['val_accuracy']\n",
        "best_epoch = val_acc_per_epoch.index(max(val_acc_per_epoch)) + 1\n",
        "print(f'Best epoch: {best_epoch}')"
      ]
    },
    {
      "cell_type": "code",
      "execution_count": 9,
      "metadata": {
        "id": "9S-dDzdUhUtQ"
      },
      "outputs": [
        {
          "name": "stdout",
          "output_type": "stream",
          "text": [
            "Retraining the best model until the best epoch...\n",
            "Epoch 1/4\n",
            "\u001b[1m18/18\u001b[0m \u001b[32m━━━━━━━━━━━━━━━━━━━━\u001b[0m\u001b[37m\u001b[0m \u001b[1m3s\u001b[0m 106ms/step - accuracy: 0.7012 - loss: 0.9615 - val_accuracy: 0.8865 - val_loss: 0.4324\n",
            "Epoch 2/4\n",
            "\u001b[1m18/18\u001b[0m \u001b[32m━━━━━━━━━━━━━━━━━━━━\u001b[0m\u001b[37m\u001b[0m \u001b[1m2s\u001b[0m 90ms/step - accuracy: 0.8878 - loss: 0.3402 - val_accuracy: 0.8723 - val_loss: 0.4582\n",
            "Epoch 3/4\n",
            "\u001b[1m18/18\u001b[0m \u001b[32m━━━━━━━━━━━━━━━━━━━━\u001b[0m\u001b[37m\u001b[0m \u001b[1m2s\u001b[0m 100ms/step - accuracy: 0.9070 - loss: 0.2610 - val_accuracy: 0.8794 - val_loss: 0.4159\n",
            "Epoch 4/4\n",
            "\u001b[1m18/18\u001b[0m \u001b[32m━━━━━━━━━━━━━━━━━━━━\u001b[0m\u001b[37m\u001b[0m \u001b[1m2s\u001b[0m 87ms/step - accuracy: 0.9221 - loss: 0.2198 - val_accuracy: 0.8794 - val_loss: 0.3947\n",
            "Best model from NAS is trained and ready.\n"
          ]
        }
      ],
      "source": [
        "# re-initialize the model and train up to the best epoch\n",
        "\n",
        "hypermodel = tuner.hypermodel.build(best_hps)\n",
        "print(\"Retraining the best model until the best epoch...\")\n",
        "hypermodel.fit(x_train, y_train, epochs=best_epoch, validation_data=(x_test, y_test))\n",
        "nas_best_model = hypermodel\n",
        "print(\"Best model from NAS is trained and ready.\")\n",
        "\n",
        "# save model\n",
        "nas_best_model.save(\"nas_optimal_model.keras\")"
      ]
    },
    {
      "cell_type": "code",
      "execution_count": 11,
      "metadata": {
        "id": "YiEvP-JUiNGz"
      },
      "outputs": [
        {
          "data": {
            "text/html": [
              "<pre style=\"white-space:pre;overflow-x:auto;line-height:normal;font-family:Menlo,'DejaVu Sans Mono',consolas,'Courier New',monospace\"><span style=\"font-weight: bold\">Model: \"functional_2\"</span>\n",
              "</pre>\n"
            ],
            "text/plain": [
              "\u001b[1mModel: \"functional_2\"\u001b[0m\n"
            ]
          },
          "metadata": {},
          "output_type": "display_data"
        },
        {
          "data": {
            "text/html": [
              "<pre style=\"white-space:pre;overflow-x:auto;line-height:normal;font-family:Menlo,'DejaVu Sans Mono',consolas,'Courier New',monospace\">┏━━━━━━━━━━━━━━━━━━━━━━━━━━━━━━━━━┳━━━━━━━━━━━━━━━━━━━━━━━━┳━━━━━━━━━━━━━━━┓\n",
              "┃<span style=\"font-weight: bold\"> Layer (type)                    </span>┃<span style=\"font-weight: bold\"> Output Shape           </span>┃<span style=\"font-weight: bold\">       Param # </span>┃\n",
              "┡━━━━━━━━━━━━━━━━━━━━━━━━━━━━━━━━━╇━━━━━━━━━━━━━━━━━━━━━━━━╇━━━━━━━━━━━━━━━┩\n",
              "│ input_layer_2 (<span style=\"color: #0087ff; text-decoration-color: #0087ff\">InputLayer</span>)      │ (<span style=\"color: #00d7ff; text-decoration-color: #00d7ff\">None</span>, <span style=\"color: #00af00; text-decoration-color: #00af00\">1936</span>, <span style=\"color: #00af00; text-decoration-color: #00af00\">1</span>)        │             <span style=\"color: #00af00; text-decoration-color: #00af00\">0</span> │\n",
              "├─────────────────────────────────┼────────────────────────┼───────────────┤\n",
              "│ conv1d_4 (<span style=\"color: #0087ff; text-decoration-color: #0087ff\">Conv1D</span>)               │ (<span style=\"color: #00d7ff; text-decoration-color: #00d7ff\">None</span>, <span style=\"color: #00af00; text-decoration-color: #00af00\">1936</span>, <span style=\"color: #00af00; text-decoration-color: #00af00\">64</span>)       │           <span style=\"color: #00af00; text-decoration-color: #00af00\">384</span> │\n",
              "├─────────────────────────────────┼────────────────────────┼───────────────┤\n",
              "│ batch_normalization_4           │ (<span style=\"color: #00d7ff; text-decoration-color: #00d7ff\">None</span>, <span style=\"color: #00af00; text-decoration-color: #00af00\">1936</span>, <span style=\"color: #00af00; text-decoration-color: #00af00\">64</span>)       │           <span style=\"color: #00af00; text-decoration-color: #00af00\">256</span> │\n",
              "│ (<span style=\"color: #0087ff; text-decoration-color: #0087ff\">BatchNormalization</span>)            │                        │               │\n",
              "├─────────────────────────────────┼────────────────────────┼───────────────┤\n",
              "│ max_pooling1d_4 (<span style=\"color: #0087ff; text-decoration-color: #0087ff\">MaxPooling1D</span>)  │ (<span style=\"color: #00d7ff; text-decoration-color: #00d7ff\">None</span>, <span style=\"color: #00af00; text-decoration-color: #00af00\">968</span>, <span style=\"color: #00af00; text-decoration-color: #00af00\">64</span>)        │             <span style=\"color: #00af00; text-decoration-color: #00af00\">0</span> │\n",
              "├─────────────────────────────────┼────────────────────────┼───────────────┤\n",
              "│ conv1d_5 (<span style=\"color: #0087ff; text-decoration-color: #0087ff\">Conv1D</span>)               │ (<span style=\"color: #00d7ff; text-decoration-color: #00d7ff\">None</span>, <span style=\"color: #00af00; text-decoration-color: #00af00\">968</span>, <span style=\"color: #00af00; text-decoration-color: #00af00\">64</span>)        │         <span style=\"color: #00af00; text-decoration-color: #00af00\">8,256</span> │\n",
              "├─────────────────────────────────┼────────────────────────┼───────────────┤\n",
              "│ batch_normalization_5           │ (<span style=\"color: #00d7ff; text-decoration-color: #00d7ff\">None</span>, <span style=\"color: #00af00; text-decoration-color: #00af00\">968</span>, <span style=\"color: #00af00; text-decoration-color: #00af00\">64</span>)        │           <span style=\"color: #00af00; text-decoration-color: #00af00\">256</span> │\n",
              "│ (<span style=\"color: #0087ff; text-decoration-color: #0087ff\">BatchNormalization</span>)            │                        │               │\n",
              "├─────────────────────────────────┼────────────────────────┼───────────────┤\n",
              "│ max_pooling1d_5 (<span style=\"color: #0087ff; text-decoration-color: #0087ff\">MaxPooling1D</span>)  │ (<span style=\"color: #00d7ff; text-decoration-color: #00d7ff\">None</span>, <span style=\"color: #00af00; text-decoration-color: #00af00\">484</span>, <span style=\"color: #00af00; text-decoration-color: #00af00\">64</span>)        │             <span style=\"color: #00af00; text-decoration-color: #00af00\">0</span> │\n",
              "├─────────────────────────────────┼────────────────────────┼───────────────┤\n",
              "│ flatten_2 (<span style=\"color: #0087ff; text-decoration-color: #0087ff\">Flatten</span>)             │ (<span style=\"color: #00d7ff; text-decoration-color: #00d7ff\">None</span>, <span style=\"color: #00af00; text-decoration-color: #00af00\">30976</span>)          │             <span style=\"color: #00af00; text-decoration-color: #00af00\">0</span> │\n",
              "├─────────────────────────────────┼────────────────────────┼───────────────┤\n",
              "│ dropout_2 (<span style=\"color: #0087ff; text-decoration-color: #0087ff\">Dropout</span>)             │ (<span style=\"color: #00d7ff; text-decoration-color: #00d7ff\">None</span>, <span style=\"color: #00af00; text-decoration-color: #00af00\">30976</span>)          │             <span style=\"color: #00af00; text-decoration-color: #00af00\">0</span> │\n",
              "├─────────────────────────────────┼────────────────────────┼───────────────┤\n",
              "│ dense_2 (<span style=\"color: #0087ff; text-decoration-color: #0087ff\">Dense</span>)                 │ (<span style=\"color: #00d7ff; text-decoration-color: #00d7ff\">None</span>, <span style=\"color: #00af00; text-decoration-color: #00af00\">10</span>)             │       <span style=\"color: #00af00; text-decoration-color: #00af00\">309,770</span> │\n",
              "└─────────────────────────────────┴────────────────────────┴───────────────┘\n",
              "</pre>\n"
            ],
            "text/plain": [
              "┏━━━━━━━━━━━━━━━━━━━━━━━━━━━━━━━━━┳━━━━━━━━━━━━━━━━━━━━━━━━┳━━━━━━━━━━━━━━━┓\n",
              "┃\u001b[1m \u001b[0m\u001b[1mLayer (type)                   \u001b[0m\u001b[1m \u001b[0m┃\u001b[1m \u001b[0m\u001b[1mOutput Shape          \u001b[0m\u001b[1m \u001b[0m┃\u001b[1m \u001b[0m\u001b[1m      Param #\u001b[0m\u001b[1m \u001b[0m┃\n",
              "┡━━━━━━━━━━━━━━━━━━━━━━━━━━━━━━━━━╇━━━━━━━━━━━━━━━━━━━━━━━━╇━━━━━━━━━━━━━━━┩\n",
              "│ input_layer_2 (\u001b[38;5;33mInputLayer\u001b[0m)      │ (\u001b[38;5;45mNone\u001b[0m, \u001b[38;5;34m1936\u001b[0m, \u001b[38;5;34m1\u001b[0m)        │             \u001b[38;5;34m0\u001b[0m │\n",
              "├─────────────────────────────────┼────────────────────────┼───────────────┤\n",
              "│ conv1d_4 (\u001b[38;5;33mConv1D\u001b[0m)               │ (\u001b[38;5;45mNone\u001b[0m, \u001b[38;5;34m1936\u001b[0m, \u001b[38;5;34m64\u001b[0m)       │           \u001b[38;5;34m384\u001b[0m │\n",
              "├─────────────────────────────────┼────────────────────────┼───────────────┤\n",
              "│ batch_normalization_4           │ (\u001b[38;5;45mNone\u001b[0m, \u001b[38;5;34m1936\u001b[0m, \u001b[38;5;34m64\u001b[0m)       │           \u001b[38;5;34m256\u001b[0m │\n",
              "│ (\u001b[38;5;33mBatchNormalization\u001b[0m)            │                        │               │\n",
              "├─────────────────────────────────┼────────────────────────┼───────────────┤\n",
              "│ max_pooling1d_4 (\u001b[38;5;33mMaxPooling1D\u001b[0m)  │ (\u001b[38;5;45mNone\u001b[0m, \u001b[38;5;34m968\u001b[0m, \u001b[38;5;34m64\u001b[0m)        │             \u001b[38;5;34m0\u001b[0m │\n",
              "├─────────────────────────────────┼────────────────────────┼───────────────┤\n",
              "│ conv1d_5 (\u001b[38;5;33mConv1D\u001b[0m)               │ (\u001b[38;5;45mNone\u001b[0m, \u001b[38;5;34m968\u001b[0m, \u001b[38;5;34m64\u001b[0m)        │         \u001b[38;5;34m8,256\u001b[0m │\n",
              "├─────────────────────────────────┼────────────────────────┼───────────────┤\n",
              "│ batch_normalization_5           │ (\u001b[38;5;45mNone\u001b[0m, \u001b[38;5;34m968\u001b[0m, \u001b[38;5;34m64\u001b[0m)        │           \u001b[38;5;34m256\u001b[0m │\n",
              "│ (\u001b[38;5;33mBatchNormalization\u001b[0m)            │                        │               │\n",
              "├─────────────────────────────────┼────────────────────────┼───────────────┤\n",
              "│ max_pooling1d_5 (\u001b[38;5;33mMaxPooling1D\u001b[0m)  │ (\u001b[38;5;45mNone\u001b[0m, \u001b[38;5;34m484\u001b[0m, \u001b[38;5;34m64\u001b[0m)        │             \u001b[38;5;34m0\u001b[0m │\n",
              "├─────────────────────────────────┼────────────────────────┼───────────────┤\n",
              "│ flatten_2 (\u001b[38;5;33mFlatten\u001b[0m)             │ (\u001b[38;5;45mNone\u001b[0m, \u001b[38;5;34m30976\u001b[0m)          │             \u001b[38;5;34m0\u001b[0m │\n",
              "├─────────────────────────────────┼────────────────────────┼───────────────┤\n",
              "│ dropout_2 (\u001b[38;5;33mDropout\u001b[0m)             │ (\u001b[38;5;45mNone\u001b[0m, \u001b[38;5;34m30976\u001b[0m)          │             \u001b[38;5;34m0\u001b[0m │\n",
              "├─────────────────────────────────┼────────────────────────┼───────────────┤\n",
              "│ dense_2 (\u001b[38;5;33mDense\u001b[0m)                 │ (\u001b[38;5;45mNone\u001b[0m, \u001b[38;5;34m10\u001b[0m)             │       \u001b[38;5;34m309,770\u001b[0m │\n",
              "└─────────────────────────────────┴────────────────────────┴───────────────┘\n"
            ]
          },
          "metadata": {},
          "output_type": "display_data"
        },
        {
          "data": {
            "text/html": [
              "<pre style=\"white-space:pre;overflow-x:auto;line-height:normal;font-family:Menlo,'DejaVu Sans Mono',consolas,'Courier New',monospace\"><span style=\"font-weight: bold\"> Total params: </span><span style=\"color: #00af00; text-decoration-color: #00af00\">956,256</span> (3.65 MB)\n",
              "</pre>\n"
            ],
            "text/plain": [
              "\u001b[1m Total params: \u001b[0m\u001b[38;5;34m956,256\u001b[0m (3.65 MB)\n"
            ]
          },
          "metadata": {},
          "output_type": "display_data"
        },
        {
          "data": {
            "text/html": [
              "<pre style=\"white-space:pre;overflow-x:auto;line-height:normal;font-family:Menlo,'DejaVu Sans Mono',consolas,'Courier New',monospace\"><span style=\"font-weight: bold\"> Trainable params: </span><span style=\"color: #00af00; text-decoration-color: #00af00\">318,666</span> (1.22 MB)\n",
              "</pre>\n"
            ],
            "text/plain": [
              "\u001b[1m Trainable params: \u001b[0m\u001b[38;5;34m318,666\u001b[0m (1.22 MB)\n"
            ]
          },
          "metadata": {},
          "output_type": "display_data"
        },
        {
          "data": {
            "text/html": [
              "<pre style=\"white-space:pre;overflow-x:auto;line-height:normal;font-family:Menlo,'DejaVu Sans Mono',consolas,'Courier New',monospace\"><span style=\"font-weight: bold\"> Non-trainable params: </span><span style=\"color: #00af00; text-decoration-color: #00af00\">256</span> (1.00 KB)\n",
              "</pre>\n"
            ],
            "text/plain": [
              "\u001b[1m Non-trainable params: \u001b[0m\u001b[38;5;34m256\u001b[0m (1.00 KB)\n"
            ]
          },
          "metadata": {},
          "output_type": "display_data"
        },
        {
          "data": {
            "text/html": [
              "<pre style=\"white-space:pre;overflow-x:auto;line-height:normal;font-family:Menlo,'DejaVu Sans Mono',consolas,'Courier New',monospace\"><span style=\"font-weight: bold\"> Optimizer params: </span><span style=\"color: #00af00; text-decoration-color: #00af00\">637,334</span> (2.43 MB)\n",
              "</pre>\n"
            ],
            "text/plain": [
              "\u001b[1m Optimizer params: \u001b[0m\u001b[38;5;34m637,334\u001b[0m (2.43 MB)\n"
            ]
          },
          "metadata": {},
          "output_type": "display_data"
        }
      ],
      "source": [
        "nas_best_model.summary()"
      ]
    },
    {
      "cell_type": "markdown",
      "metadata": {
        "id": "3tf0j5Pq6AgC"
      },
      "source": [
        "# 2. **Post-training Quantization**\n",
        "\n",
        "We will convert the SavedModel to **TFLite dynamic‑range INT8** and to **full‑integer INT8** with a *representative dataset*:"
      ]
    },
    {
      "cell_type": "code",
      "execution_count": 12,
      "metadata": {
        "id": "MHIy3t5E6I1O"
      },
      "outputs": [],
      "source": [
        "# using a portion of the dataset\n",
        "\n",
        "def representative_data_generator():\n",
        "  for input_value in tf.data.Dataset.from_tensor_slices(x_train.astype(np.float32)).batch(1).take(100):\n",
        "    yield [tf.expand_dims(input_value, axis=-1)]\n",
        "\n",
        "converter_int8 = tf.lite.TFLiteConverter.from_keras_model(nas_best_model)\n",
        "converter_int8.optimizations = [tf.lite.Optimize.DEFAULT]\n",
        "\n",
        "converter_int8.representative_dataset = representative_data_generator\n",
        "\n",
        "converter_int8.target_spec.supported_ops = [\n",
        "    tf.lite.OpsSet.TFLITE_BUILTINS,\n",
        "    tf.lite.OpsSet.TFLITE_BUILTINS_INT8\n",
        "]"
      ]
    },
    {
      "cell_type": "code",
      "execution_count": 13,
      "metadata": {
        "id": "emDSsPs65rCU"
      },
      "outputs": [
        {
          "name": "stdout",
          "output_type": "stream",
          "text": [
            "INFO:tensorflow:Assets written to: /tmp/tmpml08bt9s/assets\n"
          ]
        },
        {
          "name": "stderr",
          "output_type": "stream",
          "text": [
            "INFO:tensorflow:Assets written to: /tmp/tmpml08bt9s/assets\n"
          ]
        },
        {
          "name": "stdout",
          "output_type": "stream",
          "text": [
            "Saved artifact at '/tmp/tmpml08bt9s'. The following endpoints are available:\n",
            "\n",
            "* Endpoint 'serve'\n",
            "  args_0 (POSITIONAL_ONLY): TensorSpec(shape=(None, 1936, 1), dtype=tf.float32, name='keras_tensor_20')\n",
            "Output Type:\n",
            "  TensorSpec(shape=(None, 10), dtype=tf.float32, name=None)\n",
            "Captures:\n",
            "  136770109032784: TensorSpec(shape=(), dtype=tf.resource, name=None)\n",
            "  136770109034512: TensorSpec(shape=(), dtype=tf.resource, name=None)\n",
            "  136770080660688: TensorSpec(shape=(), dtype=tf.resource, name=None)\n",
            "  136770080664336: TensorSpec(shape=(), dtype=tf.resource, name=None)\n",
            "  136770109041808: TensorSpec(shape=(), dtype=tf.resource, name=None)\n",
            "  136770106939472: TensorSpec(shape=(), dtype=tf.resource, name=None)\n",
            "  136770080662800: TensorSpec(shape=(), dtype=tf.resource, name=None)\n",
            "  136770080660880: TensorSpec(shape=(), dtype=tf.resource, name=None)\n",
            "  136770080662224: TensorSpec(shape=(), dtype=tf.resource, name=None)\n",
            "  136770080660496: TensorSpec(shape=(), dtype=tf.resource, name=None)\n",
            "  136770080665488: TensorSpec(shape=(), dtype=tf.resource, name=None)\n",
            "  136770080664720: TensorSpec(shape=(), dtype=tf.resource, name=None)\n",
            "  136770080666256: TensorSpec(shape=(), dtype=tf.resource, name=None)\n",
            "  136770080658576: TensorSpec(shape=(), dtype=tf.resource, name=None)\n"
          ]
        },
        {
          "name": "stderr",
          "output_type": "stream",
          "text": [
            "/home/codespace/.python/current/lib/python3.12/site-packages/tensorflow/lite/python/convert.py:854: UserWarning: Statistics for quantized inputs were expected, but not specified; continuing anyway.\n",
            "  warnings.warn(\n",
            "WARNING: All log messages before absl::InitializeLog() is called are written to STDERR\n",
            "W0000 00:00:1749227151.337728   24860 tf_tfl_flatbuffer_helpers.cc:365] Ignored output_format.\n",
            "W0000 00:00:1749227151.337765   24860 tf_tfl_flatbuffer_helpers.cc:368] Ignored drop_control_dependency.\n",
            "2025-06-06 16:25:51.338222: I tensorflow/cc/saved_model/reader.cc:83] Reading SavedModel from: /tmp/tmpml08bt9s\n",
            "2025-06-06 16:25:51.339583: I tensorflow/cc/saved_model/reader.cc:52] Reading meta graph with tags { serve }\n",
            "2025-06-06 16:25:51.339627: I tensorflow/cc/saved_model/reader.cc:147] Reading SavedModel debug info (if present) from: /tmp/tmpml08bt9s\n",
            "I0000 00:00:1749227151.349889   24860 mlir_graph_optimization_pass.cc:425] MLIR V1 optimization pass is not enabled\n",
            "2025-06-06 16:25:51.351699: I tensorflow/cc/saved_model/loader.cc:236] Restoring SavedModel bundle.\n",
            "2025-06-06 16:25:51.409035: I tensorflow/cc/saved_model/loader.cc:220] Running initialization op on SavedModel bundle at path: /tmp/tmpml08bt9s\n",
            "2025-06-06 16:25:51.420049: I tensorflow/cc/saved_model/loader.cc:471] SavedModel load for tags { serve }; Status: success: OK. Took 81834 microseconds.\n",
            "2025-06-06 16:25:51.541103: I tensorflow/compiler/mlir/tensorflow/utils/dump_mlir_util.cc:269] disabling MLIR crash reproducer, set env var `MLIR_CRASH_REPRODUCER_DIRECTORY` to enable.\n"
          ]
        },
        {
          "name": "stdout",
          "output_type": "stream",
          "text": [
            "Full INT8 quantized model saved as nas_model_int8_quant.tflite\n"
          ]
        },
        {
          "name": "stderr",
          "output_type": "stream",
          "text": [
            "2025-06-06 16:25:53.058479: I tensorflow/core/framework/local_rendezvous.cc:407] Local rendezvous is aborting with status: OUT_OF_RANGE: End of sequence\n",
            "fully_quantize: 0, inference_type: 6, input_inference_type: FLOAT32, output_inference_type: FLOAT32\n"
          ]
        }
      ],
      "source": [
        "tflite_int8_quant_model = converter_int8.convert()\n",
        "with open('nas_model_int8_quant.tflite', 'wb') as f:\n",
        "    f.write(tflite_int8_quant_model)\n",
        "print(\"Full INT8 quantized model saved as nas_model_int8_quant.tflite\")"
      ]
    }
  ],
  "metadata": {
    "colab": {
      "authorship_tag": "ABX9TyMlz2Kk1QhVp6X/goIJHObk",
      "include_colab_link": true,
      "provenance": []
    },
    "kernelspec": {
      "display_name": "Python 3",
      "name": "python3"
    },
    "language_info": {
      "codemirror_mode": {
        "name": "ipython",
        "version": 3
      },
      "file_extension": ".py",
      "mimetype": "text/x-python",
      "name": "python",
      "nbconvert_exporter": "python",
      "pygments_lexer": "ipython3",
      "version": "3.12.1"
    }
  },
  "nbformat": 4,
  "nbformat_minor": 0
}
