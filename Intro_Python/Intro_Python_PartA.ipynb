{
  "cells": [
    {
      "cell_type": "markdown",
      "metadata": {
        "id": "mtVuxj8rpbkr"
      },
      "source": [
        "\n",
        "\n",
        "\n",
        "---\n",
        "\n",
        "\n",
        "\n",
        "# **INTRODUCTION TO PYTHON**  \n",
        "---"
      ]
    },
    {
      "cell_type": "markdown",
      "metadata": {
        "id": "z0nL1GjkrF3p"
      },
      "source": [
        "## **0. History of Python**\n",
        "\n",
        "\n",
        "\n",
        "\n"
      ]
    },
    {
      "cell_type": "markdown",
      "metadata": {
        "id": "F9NPv3nX3AIu"
      },
      "source": [
        "\n",
        "*   **Creator:** Guido Van Rossum (Dutch Programmer)\n",
        "*   **First Release (1.0):**  February 1991\n",
        "*   **Origin:** Developed as a successor to the ABC language while Van Rossum was at Centrum Wiskunde & Informatica (CWI) in the Netherlands\n",
        "*   **Philosphy:** Emphasizes code readability (like English), simplicity, ease of learning, and open source.\n",
        "*   **Fun Fact:** Python is Named after the British comedy group *Monty Python* (of which Van was a fan), not the snake!"
      ]
    },
    {
      "cell_type": "markdown",
      "metadata": {
        "id": "oUV758yettBC"
      },
      "source": [
        "### **0.1 Applications of Python Programming**  \n",
        "\n",
        "_Python is a high-level programming language, widely used in AI, Data science, web development, and more_  \n",
        "\n",
        "**Some Benefits**  \n",
        "- Simple and easy to read (like English)  \n",
        "- Has extensive libraries for various applications  \n",
        "- Presence of a strong community ready to support you!"
      ]
    },
    {
      "cell_type": "markdown",
      "metadata": {
        "id": "gQRG-0kTvVzK"
      },
      "source": [
        "### **0.2 Basic Rules**  \n",
        "\n",
        "**Python Suntax**  \n",
        "_Python syntax is designed to be clean and readable. Key sytanx rules include:_  \n",
        "\n",
        "\n",
        "\n",
        "1.   Statements are written **line by line** - codes are executed line by line (from top to bottom)  \n",
        "2.   Python uses indentation (spaces or tabs) at the beginning of a line of code to define its scope. Other languages use braces: `{}` and so on.\n",
        "3.   Comments are written using `#` at the beginning of the line. Triple quotes `'''` are used for multiline statements. Both are useful for code documentation.  \n",
        "4.   Python is case-sensitive hence, `Ghana` and `ghana` are not the same.\n",
        "5. Variables are dynamically typed; hence, there is no need to explicitly declare its type like how Java does it.\n",
        "\n"
      ]
    },
    {
      "cell_type": "markdown",
      "metadata": {
        "id": "sP2eIIt63yak"
      },
      "source": [
        "## **1. Understanding Variables and Data Types**  \n",
        "\n"
      ]
    },
    {
      "cell_type": "markdown",
      "metadata": {
        "id": "HpHayFslm57o"
      },
      "source": [
        "### Your Personal Details as Variables  \n",
        "In this section, we introduce create variables, using our personal information such as name, date of birth, location, email, age, etc."
      ]
    },
    {
      "cell_type": "markdown",
      "metadata": {
        "id": "f8zY1xBlofu9"
      },
      "source": [
        "**Definition 1.1**  \n",
        "A **VARIABLE** is a name given to a piece of data to which we can refer to later. It serves as a container for keeping a piece of data. E.g `x = 2`  \n",
        "\n",
        "---\n",
        "\n",
        "\n",
        "**Definition 1.2**  \n",
        "**DATA TYPES** refer to the kind of value a variable holds  \n",
        "\n",
        "---\n",
        "\n",
        "The **assignment Operator**  `=` is used to assign a value to a variable"
      ]
    },
    {
      "cell_type": "markdown",
      "metadata": {
        "id": "rRRUtTD8rxaL"
      },
      "source": [
        "### **1.1 Data Types in Python**  \n",
        "---"
      ]
    },
    {
      "cell_type": "markdown",
      "metadata": {
        "id": "7MSWFuwG1-Yj"
      },
      "source": [
        "**An INTEGER is a number that isn't a fraction/decimal. This data type is a whole  number. It is represented as `int` in Python.**"
      ]
    },
    {
      "cell_type": "code",
      "execution_count": null,
      "metadata": {
        "id": "nfvFwd6opAS0"
      },
      "outputs": [],
      "source": [
        "# Integer data type\n",
        "x = 2   #setting a variable\n",
        "print(x)  #display the variable\n",
        "print(type(x))   #display the data type of variable"
      ]
    },
    {
      "cell_type": "markdown",
      "metadata": {
        "id": "QJFZ_vUS2twP"
      },
      "source": [
        "**A FLOAT is a number with decimals. Represented as `float` in Python.**"
      ]
    },
    {
      "cell_type": "code",
      "execution_count": null,
      "metadata": {
        "id": "LPlXLAJQr_3L"
      },
      "outputs": [],
      "source": [
        "# float data type\n",
        "y = 2.0\n",
        "print(y)\n",
        "print(type(y))"
      ]
    },
    {
      "cell_type": "markdown",
      "metadata": {
        "id": "v-66_Z3P13oE"
      },
      "source": [
        "**A STRING is a data type that has a squence of characters represented as texts. Stings are denoted by quotes: `\" \"` or `' '`. Strings are represented as `str` in python.**"
      ]
    },
    {
      "cell_type": "code",
      "execution_count": null,
      "metadata": {
        "id": "67GevrLlsCMl"
      },
      "outputs": [],
      "source": [
        "# string data type\n",
        "z = \"Ghana\"\n",
        "print(z)\n",
        "print(type(z))"
      ]
    },
    {
      "cell_type": "markdown",
      "metadata": {
        "id": "qnB-bZES3yYi"
      },
      "source": [
        "**A BOOLEAN is a data type that has one of two possible values: `True (1)` or `False (0)`. Represented as `bool` in Python.**"
      ]
    },
    {
      "cell_type": "code",
      "execution_count": null,
      "metadata": {
        "id": "3uit7s_esFnV"
      },
      "outputs": [],
      "source": [
        "# boolean data type\n",
        "a = True\n",
        "print(a)\n",
        "print(type(a))"
      ]
    },
    {
      "cell_type": "markdown",
      "metadata": {
        "id": "UswIa0c7sfxd"
      },
      "source": [
        "other data types include:  \n",
        "`list`, `Dictionary`, `Set`, `tuple`, `NoneType`"
      ]
    },
    {
      "cell_type": "markdown",
      "metadata": {
        "id": "FXBRcgCj8Q21"
      },
      "source": [
        "### **1.2 Rules for Creating/Declaring Variables**  \n"
      ]
    },
    {
      "cell_type": "markdown",
      "metadata": {
        "id": "s8fNod-C9KHy"
      },
      "source": [
        "- Variable names cannot have spaces in them. E.g: `first name` and `my age` are invalide variable names.  \n",
        "\n",
        "- Variable names can begin with a letter or an underscore `_` and can be followed by any combination of letters, digits, and underscores. You cannot begin with a digit!.\n",
        "\n",
        "- Variable names are case-sensitive meaning `X` and `x` are considered as different variables.\n",
        "\n",
        "- Variable names should be meaningful and descriptive, it makes it easier to understand the code and to debug it.\n",
        "\n",
        "- Variable names cannot be reserved words. These are words that have been specially reserved by Python. Examples: `if`, `else`, `def`, `for`, `Class`, etc.\n"
      ]
    },
    {
      "cell_type": "markdown",
      "metadata": {
        "id": "dp4KnbE_zVS0"
      },
      "source": [
        "### **1.3 Tasks**  \n"
      ]
    },
    {
      "cell_type": "markdown",
      "metadata": {
        "id": "KFtIyvoe3Ib7"
      },
      "source": [
        "1.1. Create Variables for your personal details: name, age, location, etc."
      ]
    },
    {
      "cell_type": "code",
      "execution_count": null,
      "metadata": {
        "id": "2BzY1C8RsHUx"
      },
      "outputs": [],
      "source": []
    },
    {
      "cell_type": "markdown",
      "metadata": {
        "id": "YDRnHf_Yz_-L"
      },
      "source": [
        "1.2 Display the information stored (use print satement)"
      ]
    },
    {
      "cell_type": "code",
      "execution_count": null,
      "metadata": {
        "id": "L5Xj3Tqp0DSx"
      },
      "outputs": [],
      "source": []
    },
    {
      "cell_type": "markdown",
      "metadata": {
        "id": "FUe7Y-d30OXx"
      },
      "source": [
        "1.3 Change/convert your names from  lowercase to uppercase"
      ]
    },
    {
      "cell_type": "code",
      "execution_count": null,
      "metadata": {
        "id": "M6Le_Bz10DPN"
      },
      "outputs": [],
      "source": []
    },
    {
      "cell_type": "markdown",
      "metadata": {
        "id": "j4S2LMcy1_Zc"
      },
      "source": [
        "## **2. Basic Operation in Python**   \n",
        "---\n",
        "\n",
        "\n",
        "\n",
        "*   Use basic arithmetic operations\n",
        "*   Perform calculations with variables\n",
        "\n"
      ]
    },
    {
      "cell_type": "markdown",
      "metadata": {
        "id": "m9sJ4XzehBF9"
      },
      "source": [
        "**Arithmetic Operators**"
      ]
    },
    {
      "cell_type": "markdown",
      "metadata": {},
      "source": [
        "| Operator | Action             |\n",
        "|----------|--------------------|\n",
        "| +        | Addition           |\n",
        "| -        | Subtraction        |\n",
        "| *        | Multiplication     |\n",
        "| /        | Division           |\n",
        "| **       | Exponential        |\n",
        "| %        | Modulo             |\n",
        "| //       | Integer Division (floor Division)   |\n"
      ]
    },
    {
      "cell_type": "code",
      "execution_count": null,
      "metadata": {
        "id": "-HnpDhJjiU8p"
      },
      "outputs": [],
      "source": [
        "#addition\n",
        "x = 3\n",
        "y = 48\n",
        "\n",
        "z = x + y\n",
        "print(z)"
      ]
    },
    {
      "cell_type": "code",
      "execution_count": null,
      "metadata": {
        "id": "iowsnVyJimGD"
      },
      "outputs": [],
      "source": [
        "# subtraction\n",
        "x = 45\n",
        "y = 30\n",
        "\n",
        "s = x - y\n",
        "print(s)"
      ]
    },
    {
      "cell_type": "code",
      "execution_count": null,
      "metadata": {
        "id": "SWhBHuFjiwnY"
      },
      "outputs": [],
      "source": [
        "# exponntial\n",
        "x = 2\n",
        "y = 3\n",
        "\n",
        "z = x ** y\n",
        "print(z)"
      ]
    },
    {
      "cell_type": "code",
      "execution_count": null,
      "metadata": {
        "id": "-UgViiIJnCNZ"
      },
      "outputs": [],
      "source": [
        "# modulo\n",
        "a = 14\n",
        "b = 2\n",
        "c = a % b\n",
        "print(c)"
      ]
    },
    {
      "cell_type": "markdown",
      "metadata": {
        "id": "Qnlh9jhf2eOo"
      },
      "source": [
        "### **2.1 Tasks**  \n"
      ]
    },
    {
      "cell_type": "markdown",
      "metadata": {
        "id": "iU6wS3P20FUx"
      },
      "source": [
        "2.1.1  \n",
        "Can you identify the difference between division `/`   \n",
        "and integer division `//` in python?"
      ]
    },
    {
      "cell_type": "markdown",
      "metadata": {
        "id": "y800PwnL3STI"
      },
      "source": [
        "2.1.2 Convert your age into months"
      ]
    },
    {
      "cell_type": "code",
      "execution_count": null,
      "metadata": {
        "id": "Eg1bNIwr2apn"
      },
      "outputs": [],
      "source": []
    },
    {
      "cell_type": "markdown",
      "metadata": {
        "id": "emg3kkav3U0f"
      },
      "source": [
        "2.1.3 Convert your height to another unit."
      ]
    },
    {
      "cell_type": "code",
      "execution_count": null,
      "metadata": {
        "id": "9ZV332dY3lQk"
      },
      "outputs": [],
      "source": []
    },
    {
      "cell_type": "markdown",
      "metadata": {
        "id": "wLYqKLTVUZPR"
      },
      "source": [
        "2.1.4  \n",
        "Write a line of code that computes and prints out the result of  \n",
        "$$\\frac{23 \\times 12 }{33 \\times 144 - 187}$$"
      ]
    },
    {
      "cell_type": "code",
      "execution_count": null,
      "metadata": {
        "id": "wBRNnHcLWZNT"
      },
      "outputs": [],
      "source": []
    },
    {
      "cell_type": "markdown",
      "metadata": {
        "id": "c-3FYJ2hXNWs"
      },
      "source": [
        "2.1.5\n",
        "\n",
        "If there are 12 inches in one foot, convert a height of 40 inches into foot."
      ]
    },
    {
      "cell_type": "code",
      "execution_count": null,
      "metadata": {
        "id": "fNUK6XTnYQM-"
      },
      "outputs": [],
      "source": []
    },
    {
      "cell_type": "markdown",
      "metadata": {
        "id": "Zs0WsfvGdAL4"
      },
      "source": [
        "## **3. Working with Strings**    \n",
        "---"
      ]
    },
    {
      "cell_type": "markdown",
      "metadata": {
        "id": "veBFZfoq1deq"
      },
      "source": [
        "*   Combine strings (concatenation)\n",
        "*   Use `f-strings` for formatting  \n",
        "*   Apply common string methods: (`.lower()`, `.upper()`, `.title()`, `.strip()`, `.replace()`)"
      ]
    },
    {
      "cell_type": "markdown",
      "metadata": {
        "id": "uH-XdSzJ5k-W"
      },
      "source": [
        "### **3.1 String Concatenation**"
      ]
    },
    {
      "cell_type": "code",
      "execution_count": null,
      "metadata": {
        "id": "HYDAAUZx1WjZ"
      },
      "outputs": [],
      "source": [
        "name = \"Kofi Kinaata\"\n",
        "greeting = \"Welcome to python programming!\"\n",
        "\n",
        "print(\"Hello!\" + \" \" + name + \" \" + greeting)\n",
        "\n",
        "# name = \"Kofi\"\n",
        "# message = \"Welcome to python programming!\"\n",
        "# greet = name + \" \" + message\n",
        "# print(greet)"
      ]
    },
    {
      "cell_type": "markdown",
      "metadata": {
        "id": "7Q66W6p97mlh"
      },
      "source": [
        "### **3.2 f-Strings (Formatted Strings)**  \n",
        "\n",
        "_This is a more convenient way to handle string formatting.*_*"
      ]
    },
    {
      "cell_type": "code",
      "execution_count": null,
      "metadata": {
        "colab": {
          "base_uri": "https://localhost:8080/"
        },
        "id": "4U9M-dmFfGP4",
        "outputId": "b0363090-7107-4c91-cfd6-8b92dc2ebea0"
      },
      "outputs": [
        {
          "name": "stdout",
          "output_type": "stream",
          "text": [
            "Hello Jack Sparrow! \n",
            "You are a Pirate Captain of the Black Pearl!\n"
          ]
        }
      ],
      "source": [
        "first_name = \"Jack\"\n",
        "last_name = \"Sparrow\"\n",
        "occupation = \"Pirate Captain\"\n",
        "vessel = \"Black Pearl\"\n",
        "\n",
        "# display a greeting message\n",
        "print(f\"Hello {first_name} {last_name}! \\nYou are a {occupation} of the {vessel}!\")"
      ]
    },
    {
      "cell_type": "markdown",
      "metadata": {
        "id": "9GzOI40LDsSh"
      },
      "source": [
        "### **3.3 Common String Methods**\n"
      ]
    },
    {
      "cell_type": "code",
      "execution_count": null,
      "metadata": {
        "id": "s4nul5piEBhi"
      },
      "outputs": [],
      "source": [
        "# upper() method: converts to uppercase\n",
        "message = \"Welcome to python programming!\"\n",
        "print(message.upper())"
      ]
    },
    {
      "cell_type": "code",
      "execution_count": null,
      "metadata": {
        "id": "5nt1XoG3aPgv"
      },
      "outputs": [],
      "source": [
        "# lower() method: converts to lowercase\n",
        "message = \"Welcome to PYTHON programming!\"\n",
        "print(message.lower())"
      ]
    },
    {
      "cell_type": "code",
      "execution_count": null,
      "metadata": {
        "colab": {
          "base_uri": "https://localhost:8080/"
        },
        "id": "uu2O4IifaS02",
        "outputId": "5210eacd-557d-4c3d-e4d1-abbc3a7d48f8"
      },
      "outputs": [
        {
          "name": "stdout",
          "output_type": "stream",
          "text": [
            "Welcome To Python Programming!\n"
          ]
        }
      ],
      "source": [
        "# title() method: Gives strings a title-case\n",
        "message = \"Welcome to python programming!\"\n",
        "print(message.title())"
      ]
    },
    {
      "cell_type": "code",
      "execution_count": null,
      "metadata": {
        "id": "bNd-ri_Jaa1q"
      },
      "outputs": [],
      "source": [
        "# strip() method: removes spaces before/after texts\n",
        "message = \" Welcome to python programming! \"\n",
        "print(message.strip())"
      ]
    },
    {
      "cell_type": "code",
      "execution_count": null,
      "metadata": {
        "id": "xEmkia-ebB0F"
      },
      "outputs": [],
      "source": [
        "# replace() method: replaces part of string\n",
        "message = \"Welcome to python programming!\"\n",
        "print(message.replace(\"python\", \"Python\"))"
      ]
    },
    {
      "cell_type": "markdown",
      "metadata": {
        "id": "rgxupzJlAQN8"
      },
      "source": [
        "### **3.4 TASKS**"
      ]
    },
    {
      "cell_type": "markdown",
      "metadata": {
        "id": "5cnnlZdDAdEf"
      },
      "source": [
        "3.4.1  \n",
        "Use concatenation to display a personlized message of your choice"
      ]
    },
    {
      "cell_type": "code",
      "execution_count": null,
      "metadata": {
        "id": "OlRPeZLe_u55"
      },
      "outputs": [],
      "source": []
    },
    {
      "cell_type": "markdown",
      "metadata": {
        "id": "19ThyFRdAnCz"
      },
      "source": [
        "3.4.2  \n",
        "Using formatted strings, perform the same task."
      ]
    },
    {
      "cell_type": "code",
      "execution_count": null,
      "metadata": {
        "id": "nJrqOmCMAtqA"
      },
      "outputs": [],
      "source": []
    },
    {
      "cell_type": "markdown",
      "metadata": {
        "id": "1M3P0uAtAuW-"
      },
      "source": [
        "3.4.3  \n",
        "Using your user bio created at the beginning of the lesson, display your user information in a short paragraph of your choice. Explore how to write statements on a new line."
      ]
    },
    {
      "cell_type": "code",
      "execution_count": null,
      "metadata": {
        "id": "eSeKz0oyBEiO"
      },
      "outputs": [],
      "source": []
    },
    {
      "cell_type": "markdown",
      "metadata": {
        "id": "1ceO6tGSaBZM"
      },
      "source": [
        "## **Mini Challenge**  \n",
        "Write a program that asks the user to enter a string of at least six characters. Then print out the\n",
        "following:  \n",
        "(a) The length of the string  \n",
        "(b) The second character of the string  \n",
        "(c) The last character of the string  \n",
        "(d) The first five characters of the string  \n",
        "(e) The last two characters of the string  \n",
        "(f) The string backwards  \n",
        "(g) Every character of the string except the last one  \n",
        "(h) Every character of the string except the first and last    \n",
        "(j) The string in all caps  \n",
        "(k) The string with every space replaced with an underscore  "
      ]
    },
    {
      "cell_type": "code",
      "execution_count": null,
      "metadata": {
        "id": "WYzCvzUcaAzO"
      },
      "outputs": [],
      "source": []
    },
    {
      "cell_type": "code",
      "execution_count": null,
      "metadata": {
        "id": "OPsdnwxt4P-D"
      },
      "outputs": [],
      "source": []
    }
  ],
  "metadata": {
    "colab": {
      "provenance": []
    },
    "kernelspec": {
      "display_name": "Python 3",
      "name": "python3"
    },
    "language_info": {
      "name": "python"
    }
  },
  "nbformat": 4,
  "nbformat_minor": 0
}
