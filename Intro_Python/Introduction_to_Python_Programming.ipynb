{
  "nbformat": 4,
  "nbformat_minor": 0,
  "metadata": {
    "colab": {
      "provenance": [],
      "collapsed_sections": [
        "j4S2LMcy1_Zc",
        "Qnlh9jhf2eOo"
      ]
    },
    "kernelspec": {
      "name": "python3",
      "display_name": "Python 3"
    },
    "language_info": {
      "name": "python"
    }
  },
  "cells": [
    {
      "cell_type": "markdown",
      "source": [
        "\n",
        "\n",
        "\n",
        "---\n",
        "\n",
        "\n",
        "\n",
        "# **INTRODUCTION TO PYTHON**  \n",
        "---"
      ],
      "metadata": {
        "id": "mtVuxj8rpbkr"
      }
    },
    {
      "cell_type": "markdown",
      "source": [
        "## **0. History of Python**\n",
        "\n",
        "\n",
        "\n",
        "\n"
      ],
      "metadata": {
        "id": "z0nL1GjkrF3p"
      }
    },
    {
      "cell_type": "markdown",
      "source": [
        "\n",
        "*   **Creator:** Guido Van Rossum (Dutch Programmer)\n",
        "*   **First Release (1.0):**  February 1991\n",
        "*   **Origin:** Developed as a successor to the ABC language while Van Rossum was at Centrum Wiskunde & Informatica (CWI) in the Netherlands\n",
        "*   **Philosphy:** Emphasizes code readability (like English), simplicity, ease of learning, and open source.\n",
        "*   **Fun Fact:** Python is Named after the British comedy group *Monty Python* (of which Van was a fan), not the snake!"
      ],
      "metadata": {
        "id": "F9NPv3nX3AIu"
      }
    },
    {
      "cell_type": "markdown",
      "source": [
        "### **0.1 Applications of Python Programming**  \n",
        "\n",
        "_Python is a high-level programming language, widely used in AI, Data science, web development, and more_  \n",
        "\n",
        "**Some Benefits**  \n",
        "- Simple and easy to read (like English)  \n",
        "- Has extensive libraries for various applications  \n",
        "- Presence of a strong community ready to support you!"
      ],
      "metadata": {
        "id": "oUV758yettBC"
      }
    },
    {
      "cell_type": "markdown",
      "source": [
        "### **0.2 Basic Rules**  \n",
        "\n",
        "**Python Suntax**  \n",
        "_Python syntax is designed to be clean and readable. Key sytanx rules include:_  \n",
        "\n",
        "\n",
        "\n",
        "1.   Statements are written **line by line** - codes are executed line by line (from top to bottom)  \n",
        "2.   Python uses indentation (spaces or tabs) at the beginning of a line of code to define its scope. Other languages use braces: `{}` and so on.\n",
        "3.   Comments are written using `#` at the beginning of the line. Triple quotes `'''` are used for multiline statements. Both are useful for code documentation.  \n",
        "4.   Python is case-sensitive hence, `Ghana` and `ghana` are not the same.\n",
        "5. Variables are dynamically typed; hence, there is no need to explicitly declare its type like how Java does it.\n",
        "\n"
      ],
      "metadata": {
        "id": "gQRG-0kTvVzK"
      }
    },
    {
      "cell_type": "markdown",
      "source": [
        "## **1. Understanding Variables and Data Types**  \n",
        "\n"
      ],
      "metadata": {
        "id": "sP2eIIt63yak"
      }
    },
    {
      "cell_type": "markdown",
      "source": [
        "### Your Personal Details as Variables  \n",
        "In this section, we introduce create variables, using our personal information such as name, date of birth, location, email, age, etc."
      ],
      "metadata": {
        "id": "HpHayFslm57o"
      }
    },
    {
      "cell_type": "markdown",
      "source": [
        "**Definition 1.1**  \n",
        "A **VARIABLE** to a name given to a piece of data to which we can refer to later. E.g `x = 2`  \n",
        "\n",
        "---\n",
        "\n",
        "\n",
        "**Definition 1.2**  \n",
        "**DATA TYPES** refer to the kind of value a variable holds  \n",
        "\n",
        "---\n",
        "\n",
        "The **assignment Operator**  `=` is used to assign a value to a variable"
      ],
      "metadata": {
        "id": "f8zY1xBlofu9"
      }
    },
    {
      "cell_type": "markdown",
      "source": [
        "### **1.1 Data Types in Python**"
      ],
      "metadata": {
        "id": "rRRUtTD8rxaL"
      }
    },
    {
      "cell_type": "markdown",
      "source": [
        "**An INTEGER is a number that isn't a fraction/decimal. This data type is a whole  number. It is represented as `int` in Python.**"
      ],
      "metadata": {
        "id": "7MSWFuwG1-Yj"
      }
    },
    {
      "cell_type": "code",
      "execution_count": null,
      "metadata": {
        "id": "nfvFwd6opAS0"
      },
      "outputs": [],
      "source": [
        "# Integer data type\n",
        "x = 2   #setting a variable\n",
        "print(x)  #display the variable\n",
        "print(type(x))   #display the data type of variable"
      ]
    },
    {
      "cell_type": "markdown",
      "source": [
        "**A FLOAT is a number with decimals. Represented as `float` in Python.**"
      ],
      "metadata": {
        "id": "QJFZ_vUS2twP"
      }
    },
    {
      "cell_type": "code",
      "source": [
        "# float data type\n",
        "y = 2.0\n",
        "print(y)\n",
        "print(type(y))"
      ],
      "metadata": {
        "id": "LPlXLAJQr_3L"
      },
      "execution_count": null,
      "outputs": []
    },
    {
      "cell_type": "markdown",
      "source": [
        "**A STRING is a data type that has a squence of characters represented as texts. Stings are denoted by quotes: `\" \"` or `' '`. Strings are represented as `str` in python.**"
      ],
      "metadata": {
        "id": "v-66_Z3P13oE"
      }
    },
    {
      "cell_type": "code",
      "source": [
        "# string data type\n",
        "z = \"Ghana\"\n",
        "print(z)\n",
        "print(type(z))"
      ],
      "metadata": {
        "id": "67GevrLlsCMl"
      },
      "execution_count": null,
      "outputs": []
    },
    {
      "cell_type": "markdown",
      "source": [
        "**A BOOLEAN is a data type that has one of two possible values: `True (1)` or `False (0)`. Represented as `bool` in Python.**"
      ],
      "metadata": {
        "id": "qnB-bZES3yYi"
      }
    },
    {
      "cell_type": "code",
      "source": [
        "# boolean data type\n",
        "a = True\n",
        "print(a)\n",
        "print(type(a))"
      ],
      "metadata": {
        "id": "3uit7s_esFnV"
      },
      "execution_count": null,
      "outputs": []
    },
    {
      "cell_type": "markdown",
      "source": [
        "other data types include:  \n",
        "`list`, `Dictionary`, `Set`, `tuple`, `NoneType`"
      ],
      "metadata": {
        "id": "UswIa0c7sfxd"
      }
    },
    {
      "cell_type": "markdown",
      "source": [
        "### **1.2 Rules for Creating/Declaring Variables**  \n"
      ],
      "metadata": {
        "id": "FXBRcgCj8Q21"
      }
    },
    {
      "cell_type": "markdown",
      "source": [
        "- Variable names cannot have spaces in them. E.g: `first name` and `my age` are invalide variable names.  \n",
        "\n",
        "- Variable names can begin with a letter or an underscore `_` and can be followed by any combination of letters, digits, and underscores. You cannot begin with a digit!.\n",
        "\n",
        "- Variable names are case-sensitive meaning `X` and `x` are considered as different variables.\n",
        "\n",
        "- Variable names should be meaningful and descriptive, it makes it easier to understand the code and to debug it.\n",
        "\n",
        "- Variable names cannot be reserved words. These are words that have been specially reserved by Python. Examples: `if`, `else`, `def`, `for`, `Class`, etc.\n"
      ],
      "metadata": {
        "id": "s8fNod-C9KHy"
      }
    },
    {
      "cell_type": "markdown",
      "source": [
        "### **1.3 Tasks**  \n"
      ],
      "metadata": {
        "id": "dp4KnbE_zVS0"
      }
    },
    {
      "cell_type": "markdown",
      "source": [
        "1.1. Create Variables for your personal details: name, age, location, etc."
      ],
      "metadata": {
        "id": "KFtIyvoe3Ib7"
      }
    },
    {
      "cell_type": "code",
      "source": [],
      "metadata": {
        "id": "2BzY1C8RsHUx"
      },
      "execution_count": null,
      "outputs": []
    },
    {
      "cell_type": "markdown",
      "source": [
        "1.2 Display the information stored (use print satement)"
      ],
      "metadata": {
        "id": "YDRnHf_Yz_-L"
      }
    },
    {
      "cell_type": "code",
      "source": [],
      "metadata": {
        "id": "L5Xj3Tqp0DSx"
      },
      "execution_count": null,
      "outputs": []
    },
    {
      "cell_type": "markdown",
      "source": [
        "1.3 Change/convert your names from  lowercase to uppercase"
      ],
      "metadata": {
        "id": "FUe7Y-d30OXx"
      }
    },
    {
      "cell_type": "code",
      "source": [],
      "metadata": {
        "id": "M6Le_Bz10DPN"
      },
      "execution_count": null,
      "outputs": []
    },
    {
      "cell_type": "markdown",
      "source": [
        "## **2. Basic Operation in Python**  \n",
        "\n",
        "\n",
        "\n",
        "*   Use basic arithmetic operations\n",
        "*   Perform calculations with variables\n",
        "\n"
      ],
      "metadata": {
        "id": "j4S2LMcy1_Zc"
      }
    },
    {
      "cell_type": "markdown",
      "source": [
        "**Arithmetic Operators**"
      ],
      "metadata": {
        "id": "m9sJ4XzehBF9"
      }
    },
    {
      "cell_type": "markdown",
      "source": [
        "|Operator||Action|\n",
        "|----||----|\n",
        "|+||addition|\n",
        "|-||subtraction|\n",
        "|*||multiplication|\n",
        "|/|| division|\n",
        "|\\**||exponential|\n",
        "|%||modulo|\n",
        "|\\//|| integer division|"
      ],
      "metadata": {
        "id": "vHMt8gKcghJ0"
      }
    },
    {
      "cell_type": "code",
      "source": [
        "#addition\n",
        "x = 3\n",
        "y = 48\n",
        "\n",
        "z = x + y\n",
        "print(z)"
      ],
      "metadata": {
        "id": "-HnpDhJjiU8p"
      },
      "execution_count": null,
      "outputs": []
    },
    {
      "cell_type": "code",
      "source": [
        "# subtraction\n",
        "x = 45\n",
        "y = 30\n",
        "\n",
        "s = x - y\n",
        "print(s)"
      ],
      "metadata": {
        "id": "iowsnVyJimGD"
      },
      "execution_count": null,
      "outputs": []
    },
    {
      "cell_type": "code",
      "source": [
        "# exponntial\n",
        "x = 2\n",
        "y = 3\n",
        "\n",
        "z = x ** y\n",
        "print(z)"
      ],
      "metadata": {
        "id": "SWhBHuFjiwnY"
      },
      "execution_count": null,
      "outputs": []
    },
    {
      "cell_type": "code",
      "source": [
        "# modulo\n",
        "a = 14\n",
        "b = 2\n",
        "c = a % b\n",
        "print(c)"
      ],
      "metadata": {
        "id": "-UgViiIJnCNZ"
      },
      "execution_count": null,
      "outputs": []
    },
    {
      "cell_type": "markdown",
      "source": [
        "### **2.1 Tasks**  \n"
      ],
      "metadata": {
        "id": "Qnlh9jhf2eOo"
      }
    },
    {
      "cell_type": "markdown",
      "source": [
        "2.1.1  \n",
        "Can you identify the difference between division `/`   \n",
        "and integer division `//` in python?"
      ],
      "metadata": {
        "id": "iU6wS3P20FUx"
      }
    },
    {
      "cell_type": "markdown",
      "source": [
        "2.1.2 Convert your age into months"
      ],
      "metadata": {
        "id": "y800PwnL3STI"
      }
    },
    {
      "cell_type": "code",
      "source": [],
      "metadata": {
        "id": "Eg1bNIwr2apn"
      },
      "execution_count": null,
      "outputs": []
    },
    {
      "cell_type": "markdown",
      "source": [
        "2.1.3 Convert your height to another unit."
      ],
      "metadata": {
        "id": "emg3kkav3U0f"
      }
    },
    {
      "cell_type": "code",
      "source": [],
      "metadata": {
        "id": "9ZV332dY3lQk"
      },
      "execution_count": null,
      "outputs": []
    },
    {
      "cell_type": "markdown",
      "source": [
        "## **3. Working with Strings**  "
      ],
      "metadata": {
        "id": "Zs0WsfvGdAL4"
      }
    },
    {
      "cell_type": "markdown",
      "source": [
        "*   Combine strings (concatenation)\n",
        "*   Use `f-strings` for formatting  \n",
        "*   Apply common string methods: (`.lower()`, `.upper()`, `.title()`, `.strip()`, `.replace()`)"
      ],
      "metadata": {
        "id": "veBFZfoq1deq"
      }
    },
    {
      "cell_type": "markdown",
      "source": [
        "### **3.1 String Concatenation**"
      ],
      "metadata": {
        "id": "uH-XdSzJ5k-W"
      }
    },
    {
      "cell_type": "code",
      "source": [
        "name = \"Kofi Kinaata\"\n",
        "greeting = \"Welcome to python programming!\"\n",
        "\n",
        "print(\"Hello!\" + \" \" + name + \" \" + greeting)\n",
        "\n",
        "# name = \"Kofi\"\n",
        "# message = \"Welcome to python programming!\"\n",
        "# greet = name + \" \" + message\n",
        "# print(greet)"
      ],
      "metadata": {
        "id": "HYDAAUZx1WjZ"
      },
      "execution_count": null,
      "outputs": []
    },
    {
      "cell_type": "markdown",
      "source": [
        "### **3.2 f-Strings (Formatted Strings)**  \n",
        "\n",
        "_This is a more convenient way to handle string formatting.*_*"
      ],
      "metadata": {
        "id": "7Q66W6p97mlh"
      }
    },
    {
      "cell_type": "code",
      "source": [
        "first_name = \"Jack\"\n",
        "last_name = \"Sparrow\"\n",
        "occupation = \"Pirate Captain\"\n",
        "vessel = \"Black Pearl\"\n",
        "\n",
        "# display a greeting message\n",
        "print(f\"Hello {first_name} {last_name}! \\nYou are a {occupation} of the {vessel}!\")"
      ],
      "metadata": {
        "colab": {
          "base_uri": "https://localhost:8080/"
        },
        "id": "4U9M-dmFfGP4",
        "outputId": "b0363090-7107-4c91-cfd6-8b92dc2ebea0"
      },
      "execution_count": null,
      "outputs": [
        {
          "output_type": "stream",
          "name": "stdout",
          "text": [
            "Hello Jack Sparrow! \n",
            "You are a Pirate Captain of the Black Pearl!\n"
          ]
        }
      ]
    },
    {
      "cell_type": "markdown",
      "source": [
        "### **3.3 Common String Methods**\n"
      ],
      "metadata": {
        "id": "9GzOI40LDsSh"
      }
    },
    {
      "cell_type": "code",
      "source": [
        "# upper() method: converts to uppercase\n",
        "message = \"Welcome to python programming!\"\n",
        "print(message.upper())"
      ],
      "metadata": {
        "id": "s4nul5piEBhi"
      },
      "execution_count": null,
      "outputs": []
    },
    {
      "cell_type": "code",
      "source": [
        "# lower() method: converts to lowercase\n",
        "message = \"Welcome to PYTHON programming!\"\n",
        "print(message.lower())"
      ],
      "metadata": {
        "id": "5nt1XoG3aPgv"
      },
      "execution_count": null,
      "outputs": []
    },
    {
      "cell_type": "code",
      "source": [
        "# title() method: Gives strings a title-case\n",
        "message = \"Welcome to python programming!\"\n",
        "print(message.title())"
      ],
      "metadata": {
        "colab": {
          "base_uri": "https://localhost:8080/"
        },
        "id": "uu2O4IifaS02",
        "outputId": "5210eacd-557d-4c3d-e4d1-abbc3a7d48f8"
      },
      "execution_count": null,
      "outputs": [
        {
          "output_type": "stream",
          "name": "stdout",
          "text": [
            "Welcome To Python Programming!\n"
          ]
        }
      ]
    },
    {
      "cell_type": "code",
      "source": [
        "# strip() method: removes spaces before/after texts\n",
        "message = \" Welcome to python programming! \"\n",
        "print(message.strip())"
      ],
      "metadata": {
        "id": "bNd-ri_Jaa1q"
      },
      "execution_count": null,
      "outputs": []
    },
    {
      "cell_type": "code",
      "source": [
        "# replace() method: replaces part of string\n",
        "message = \"Welcome to python programming!\"\n",
        "print(message.replace(\"python\", \"Python\"))"
      ],
      "metadata": {
        "id": "xEmkia-ebB0F"
      },
      "execution_count": null,
      "outputs": []
    },
    {
      "cell_type": "markdown",
      "source": [
        "### **3.4 TASKS**"
      ],
      "metadata": {
        "id": "rgxupzJlAQN8"
      }
    },
    {
      "cell_type": "markdown",
      "source": [
        "3.4.1  \n",
        "Use concatenation to display a personlized message of your choice"
      ],
      "metadata": {
        "id": "5cnnlZdDAdEf"
      }
    },
    {
      "cell_type": "code",
      "source": [],
      "metadata": {
        "id": "OlRPeZLe_u55"
      },
      "execution_count": null,
      "outputs": []
    },
    {
      "cell_type": "markdown",
      "source": [
        "3.4.2  \n",
        "Using formatted strings, perform the same task."
      ],
      "metadata": {
        "id": "19ThyFRdAnCz"
      }
    },
    {
      "cell_type": "code",
      "source": [],
      "metadata": {
        "id": "nJrqOmCMAtqA"
      },
      "execution_count": null,
      "outputs": []
    },
    {
      "cell_type": "markdown",
      "source": [
        "3.4.3  \n",
        "Using your user bio created at the beginning of the lesson, display your user information in a short paragraph of your choice. Explore how to write statements on a new line."
      ],
      "metadata": {
        "id": "1M3P0uAtAuW-"
      }
    },
    {
      "cell_type": "code",
      "source": [],
      "metadata": {
        "id": "eSeKz0oyBEiO"
      },
      "execution_count": null,
      "outputs": []
    },
    {
      "cell_type": "markdown",
      "source": [
        "## **4. Data Structures**  \n",
        "Objective: Understand and work with Python's in-built data structures"
      ],
      "metadata": {
        "id": "8knB4A86hLe_"
      }
    },
    {
      "cell_type": "markdown",
      "source": [
        "### **4.1 Lists**  \n",
        "A list is a collection of ordered items, which are changeable (mutable). Lists are created using square brackets: `[ ]`  \n",
        "Properties of a list include:\n",
        "\n",
        "\n",
        "*   Ordered\n",
        "*   Mutable  \n",
        "*   Supports various data types\n",
        "\n"
      ],
      "metadata": {
        "id": "4U4DMwQmji3H"
      }
    },
    {
      "cell_type": "code",
      "source": [
        "# create a list of your favorite foods\n"
      ],
      "metadata": {
        "id": "d_6miYoah8e8"
      },
      "execution_count": null,
      "outputs": []
    },
    {
      "cell_type": "markdown",
      "source": [
        "**Items in a list are accessed using the index**"
      ],
      "metadata": {
        "id": "FzgxczWapwCw"
      }
    },
    {
      "cell_type": "code",
      "source": [
        "list_1 = [10, 20, 30, 40, 50]\n",
        "\n",
        "# access the second item in the list\n",
        "print(list_1[1])"
      ],
      "metadata": {
        "id": "oOjZ32CRp16e"
      },
      "execution_count": null,
      "outputs": []
    },
    {
      "cell_type": "markdown",
      "source": [
        "#### **4.1.1 List Methods**  \n",
        "\n",
        "**Common Methods:**\n",
        "- `append()`, `extend()`, `insert()`, `remove()`, `pop()`, `index()`, `count()`, `sort()`, `reverse()`, `copy()`"
      ],
      "metadata": {
        "id": "6G_9AH0llFky"
      }
    },
    {
      "cell_type": "code",
      "source": [
        "# example list\n",
        "african_countries = [\"Africa\", 100, \"Nigeria\", \"Senegal\", 20, 30, 40, 50, 7, 6, 5]"
      ],
      "metadata": {
        "id": "_AWV8cHVlO7x"
      },
      "execution_count": null,
      "outputs": []
    },
    {
      "cell_type": "code",
      "source": [
        "# append() method\n",
        "african_countries.append(\"Ghana\")  # add the string \"Ghana\" to the list\n",
        "african_countries"
      ],
      "metadata": {
        "id": "A2DcZLBio9dU"
      },
      "execution_count": null,
      "outputs": []
    },
    {
      "cell_type": "code",
      "source": [
        "# extend() method\n",
        "african_countries.extend([\"Mali\", \"Egypt\"])\n",
        "print(african_countries)"
      ],
      "metadata": {
        "id": "A09L62evpSN3"
      },
      "execution_count": null,
      "outputs": []
    },
    {
      "cell_type": "code",
      "source": [
        "# insert() method\n",
        "african_countries.insert(2, \"Ghana\")\n",
        "print(african_countries)"
      ],
      "metadata": {
        "id": "JKwhCRXOpkcC"
      },
      "execution_count": null,
      "outputs": []
    },
    {
      "cell_type": "code",
      "source": [
        "# remove() method\n",
        "african_countries.remove(30)\n",
        "print(african_countries)"
      ],
      "metadata": {
        "id": "IThfnHFgnxRV"
      },
      "execution_count": null,
      "outputs": []
    },
    {
      "cell_type": "code",
      "source": [
        "# reverse() method\n",
        "african_countries.reverse()\n",
        "print(african_countries)"
      ],
      "metadata": {
        "id": "Me2lPjmDn5Wt"
      },
      "execution_count": null,
      "outputs": []
    }
  ]
}