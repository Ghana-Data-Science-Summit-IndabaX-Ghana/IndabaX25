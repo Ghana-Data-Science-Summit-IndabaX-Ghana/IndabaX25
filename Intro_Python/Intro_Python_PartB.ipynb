{
  "nbformat": 4,
  "nbformat_minor": 0,
  "metadata": {
    "colab": {
      "provenance": []
    },
    "kernelspec": {
      "name": "python3",
      "display_name": "Python 3"
    },
    "language_info": {
      "name": "python"
    }
  },
  "cells": [
    {
      "cell_type": "markdown",
      "source": [
        "## **4. Data Structures**  \n",
        "Objective: Understand and work with Python's in-built data structures"
      ],
      "metadata": {
        "id": "-6e-JiO9Fie1"
      }
    },
    {
      "cell_type": "markdown",
      "source": [],
      "metadata": {
        "id": "f6R5NKTAFl-y"
      }
    },
    {
      "cell_type": "markdown",
      "source": [
        "### **4.1 Lists**  \n",
        "A list is a collection of ordered items, which are changeable (mutable). Lists are created using square brackets: `[ ]`  \n",
        "Properties of a list include:\n",
        "\n",
        "\n",
        "*   Ordered\n",
        "*   Mutable  \n",
        "*   Supports various data types\n",
        "\n"
      ],
      "metadata": {
        "id": "4U4DMwQmji3H"
      }
    },
    {
      "cell_type": "code",
      "execution_count": null,
      "metadata": {
        "id": "DOT33Y4ME5mn"
      },
      "outputs": [],
      "source": [
        "# create a list of your favorite foods\n"
      ]
    },
    {
      "cell_type": "markdown",
      "source": [
        "**Items in a list are accessed using the index**"
      ],
      "metadata": {
        "id": "Y6wn-wpUFrjM"
      }
    },
    {
      "cell_type": "code",
      "source": [
        "list_1 = [10, 20, 30, 40, 50]\n",
        "\n",
        "# access the second item in the list\n",
        "print(list_1[1])"
      ],
      "metadata": {
        "id": "RXe7Rb3uFp4B"
      },
      "execution_count": null,
      "outputs": []
    },
    {
      "cell_type": "code",
      "source": [
        "# get the last item in list_1\n",
        "\n",
        "list_1[-1]"
      ],
      "metadata": {
        "id": "LbZ5Ulj8Fp0n"
      },
      "execution_count": null,
      "outputs": []
    },
    {
      "cell_type": "markdown",
      "source": [
        "#### **4.1.1 List Methods**  \n",
        "\n",
        "**Common Methods:**\n",
        "- `append()`, `extend()`, `insert()`, `remove()`, `pop()`, `index()`, `count()`, `sort()`, `reverse()`, `copy()`"
      ],
      "metadata": {
        "id": "SAvMNDiRFwm3"
      }
    },
    {
      "cell_type": "code",
      "source": [
        "# example list\n",
        "african_countries = [\"Africa\", 100, \"Nigeria\", \"Senegal\", 20, 30, 40, 50, 7, 6, 5]"
      ],
      "metadata": {
        "id": "sYYV9nHMFpyF"
      },
      "execution_count": null,
      "outputs": []
    },
    {
      "cell_type": "code",
      "source": [
        "# append() method\n",
        "african_countries.append(\"Ghana\")  # add the string \"Ghana\" to the list\n",
        "african_countries"
      ],
      "metadata": {
        "id": "fLMBQXJmF0Cp"
      },
      "execution_count": null,
      "outputs": []
    },
    {
      "cell_type": "code",
      "source": [
        "# extend() method\n",
        "african_countries.extend([\"Mali\", \"Egypt\"])\n",
        "print(african_countries)"
      ],
      "metadata": {
        "id": "kBywyQRaFz_i"
      },
      "execution_count": null,
      "outputs": []
    },
    {
      "cell_type": "code",
      "source": [
        "# insert() method\n",
        "african_countries.insert(2, \"Ghana\")\n",
        "print(african_countries)"
      ],
      "metadata": {
        "id": "WnSTU21kFz9T"
      },
      "execution_count": null,
      "outputs": []
    },
    {
      "cell_type": "code",
      "source": [
        "# remove() method\n",
        "african_countries.remove(30)\n",
        "print(african_countries)"
      ],
      "metadata": {
        "id": "LY_vCrZsFz6S"
      },
      "execution_count": null,
      "outputs": []
    },
    {
      "cell_type": "code",
      "source": [
        "# reverse() method\n",
        "african_countries.reverse()\n",
        "print(african_countries)"
      ],
      "metadata": {
        "id": "HjKA9_7_Fz4E"
      },
      "execution_count": null,
      "outputs": []
    },
    {
      "cell_type": "markdown",
      "source": [
        "#### **4.1.2 Membership Operators**  \n",
        "  - These are used to check if an item is found in a data structure\n",
        "  - The return output is a boolean  \n",
        "  - The operators are `in` and `not in`"
      ],
      "metadata": {
        "id": "rdjngH3fF7h0"
      }
    },
    {
      "cell_type": "code",
      "source": [
        "# create list of tutorial attendees\n",
        "attendees = []\n",
        "\n",
        "# check membership of person\n",
        "person_1 = \"Kofi\"\n",
        "person_2 = \"Ama\"\n",
        "\n",
        "# checking\n",
        "print(person_1 in attendees)\n",
        "print(person_2 not in attendees)"
      ],
      "metadata": {
        "id": "TRPQYqz4Fz1k"
      },
      "execution_count": null,
      "outputs": []
    },
    {
      "cell_type": "markdown",
      "source": [
        "### **4.2 Tuples**  \n",
        "\n",
        "A **tuple** is a collection of items with the following properties:  \n",
        "- Ordered   \n",
        "- Immutable (items cannot be added or removed once a tuple is created)\n",
        "- Can hold different data types or data structures.  \n",
        "\n",
        "Tuples are created using the parenthesis `()` or `tuple()`\n",
        "\n"
      ],
      "metadata": {
        "id": "yGWGhEXzGAEk"
      }
    },
    {
      "cell_type": "code",
      "source": [
        "# create a tuple\n",
        "tuple_1 = (1, 2, 3, 4, 5, 5, 3, 4, 5, 17, 33, 29, 56, 11, 2, 3, 44, 2, 5, 22, 71)\n",
        "print(tuple_1)"
      ],
      "metadata": {
        "id": "JAYaD3BVFpv1"
      },
      "execution_count": null,
      "outputs": []
    },
    {
      "cell_type": "markdown",
      "source": [
        "**Common Methods**  \n",
        "`count`, `index`"
      ],
      "metadata": {
        "id": "wnPd6huNGEpf"
      }
    },
    {
      "cell_type": "code",
      "source": [
        "# count occurrences of 5 in tuple_1\n",
        "tuple_1.count(5)"
      ],
      "metadata": {
        "id": "tit6IPURGFnq"
      },
      "execution_count": null,
      "outputs": []
    },
    {
      "cell_type": "code",
      "source": [
        "# find the index of an item in tuple_1\n",
        "tuple_1.index(33)"
      ],
      "metadata": {
        "id": "mQ_NHbiQGFko"
      },
      "execution_count": null,
      "outputs": []
    },
    {
      "cell_type": "markdown",
      "source": [
        "### **4.3 Sets**\n",
        "\n",
        "Sets are unordered collections of unique items with the following properties  \n",
        "\n",
        "- Unordered  \n",
        "- No duplicate elements  \n",
        "- Mutable, only for adding/removing elements  \n",
        "\n",
        "**Common Methods**  \n",
        "`add()`, `remove()`, `discard()`,\n",
        "\n",
        "`union()`, `intersection()`, `difference()`, `clear()`"
      ],
      "metadata": {
        "id": "SAUI9U0mGJnc"
      }
    },
    {
      "cell_type": "code",
      "source": [
        "# create a set of numbers\n",
        "set_1 = {1, 2, 3, 4, 5, 6, 7, 8, 9, 10}\n",
        "print(set_1)"
      ],
      "metadata": {
        "id": "AJCzhfHgGFig"
      },
      "execution_count": null,
      "outputs": []
    },
    {
      "cell_type": "code",
      "source": [
        "# add an element to the set\n",
        "set_1.add(11)\n",
        "print(set_1)"
      ],
      "metadata": {
        "id": "IuwmIz7uGFgA"
      },
      "execution_count": null,
      "outputs": []
    },
    {
      "cell_type": "code",
      "source": [
        "# remove an element from the set\n",
        "set_1.remove(11)\n",
        "print(set_1)"
      ],
      "metadata": {
        "id": "oUGwD8K1FptI"
      },
      "execution_count": null,
      "outputs": []
    },
    {
      "cell_type": "code",
      "source": [
        "# discard an element from the set\n",
        "set_1.discard(10)\n",
        "print(set_1)"
      ],
      "metadata": {
        "id": "qws0VbP5Fpqw"
      },
      "execution_count": null,
      "outputs": []
    },
    {
      "cell_type": "code",
      "source": [
        "# create another set of even numbers and find the union\n",
        "\n",
        "set_2 = {2, 4, 6, 8, 10, 12, 14, 16, 18, 20}\n",
        "print(set_1.union(set_2))"
      ],
      "metadata": {
        "id": "sdxocvt6Fpor"
      },
      "execution_count": null,
      "outputs": []
    },
    {
      "cell_type": "code",
      "source": [
        "# find the intersection of the two sets\n",
        "print(set_1.intersection(set_2))"
      ],
      "metadata": {
        "id": "IdPLyB_zGRbq"
      },
      "execution_count": null,
      "outputs": []
    },
    {
      "cell_type": "code",
      "source": [
        "# find the difference of the two sets\n",
        "print(set_1.difference(set_2))"
      ],
      "metadata": {
        "id": "LzUIKxInGRYP"
      },
      "execution_count": null,
      "outputs": []
    },
    {
      "cell_type": "code",
      "source": [
        "# clear all elements from the list\n",
        "set_1.clear()\n",
        "print(set_1)"
      ],
      "metadata": {
        "id": "UY4NY7qHGRWU"
      },
      "execution_count": null,
      "outputs": []
    },
    {
      "cell_type": "markdown",
      "source": [
        "### **4.4 Dictionaries**  \n",
        "\n",
        "A dictionary in python is a data structure that stores data in **key-value** pairs.  \n",
        "\n",
        "Dictionaries are mutable, and have unique keys.  \n",
        "\n",
        "**Common Methods**  \n",
        "`keys()`, `values()`, `update()`,  \n",
        "`items()`, `get()`, `clear()`."
      ],
      "metadata": {
        "id": "Cvi5pxdQGWKS"
      }
    },
    {
      "cell_type": "code",
      "source": [
        "# create a dictionary of school supplies\n",
        "shopping_cart{'pens':50, 'pencils':100,\n",
        "              'notebooks':200, 'ruler':150,}\n",
        "\n",
        "print(shopping_cart)"
      ],
      "metadata": {
        "id": "KAy7j9JkGRT6"
      },
      "execution_count": null,
      "outputs": []
    },
    {
      "cell_type": "code",
      "source": [
        "# get all keys from the dictionary\n",
        "shopping_cart.keys()"
      ],
      "metadata": {
        "id": "I07wJxvUGbAT"
      },
      "execution_count": null,
      "outputs": []
    },
    {
      "cell_type": "code",
      "source": [
        "# get all values frm the dictionary\n",
        "shopping_cart.values()\n"
      ],
      "metadata": {
        "id": "ENIYJCIfGa9B"
      },
      "execution_count": null,
      "outputs": []
    },
    {
      "cell_type": "code",
      "source": [
        "# get all items(key-value pairs) from the dictionary\n",
        "all_items = shopping_cart.items()\n",
        "print(all_items)"
      ],
      "metadata": {
        "id": "Z2Dnf2X1Ga7F"
      },
      "execution_count": null,
      "outputs": []
    },
    {
      "cell_type": "code",
      "source": [
        "# retrieve the value of an item in the dictionary\n",
        "notebooks_cost = shopping_cart.get('notebooks')\n",
        "print(notebooks_cost)"
      ],
      "metadata": {
        "id": "cYpUnvWaGRRH"
      },
      "execution_count": null,
      "outputs": []
    },
    {
      "cell_type": "code",
      "source": [
        "# update the dictionary with new items\n",
        "shopping_cart.update({'school bag': 300, 'textbooks':500})\n",
        "print(shopping_cart)"
      ],
      "metadata": {
        "id": "ydOFVJxDGhlL"
      },
      "execution_count": null,
      "outputs": []
    },
    {
      "cell_type": "code",
      "source": [
        "# clear all items from the dictionary\n",
        "shopping_cart.clear()\n",
        "print(shopping_cart)"
      ],
      "metadata": {
        "id": "YzhRtb-JGhht"
      },
      "execution_count": null,
      "outputs": []
    },
    {
      "cell_type": "markdown",
      "source": [
        "### **4.5 Type Casting**  \n",
        "\n",
        "This is the process of converting an object from one data type to another.  \n",
        "\n",
        "**Examples:**\n",
        "- List to Tuple: `tuple(list_1)`\n",
        "- Tuple to List: `list(tuple_1)`\n",
        "- List to Set: `set(list_1)`\n",
        "- Dictionary Keys to List: `list(shopping_cart.keys())`\n"
      ],
      "metadata": {
        "id": "1Hj0QNQpGmAe"
      }
    },
    {
      "cell_type": "code",
      "source": [
        "# convert list_1 to a tuple\n",
        "# list_1 = [10, 20, 30, 40, 50]\n",
        "tuple_1 = tuple(list_1)\n",
        "print(tuple_1)"
      ],
      "metadata": {
        "id": "RAqtL2QBGhfB"
      },
      "execution_count": null,
      "outputs": []
    },
    {
      "cell_type": "code",
      "source": [
        "# convert tuple_1 into a list\n",
        "tuple_1 = (10, 20, 30, 40, 50)\n",
        "list_1 = list(tuple_1)\n",
        "print(list_1)"
      ],
      "metadata": {
        "id": "M5h4GHUXGhcp"
      },
      "execution_count": null,
      "outputs": []
    },
    {
      "cell_type": "code",
      "source": [
        "# create list_2 and convert into a set\n",
        "list_2 = [10, 20, 30, 40, 50, 10, 20, 30, 40, 50]\n",
        "set_1 = set(list_2)\n",
        "print(set_1)"
      ],
      "metadata": {
        "id": "ceGw982oGqo2"
      },
      "execution_count": null,
      "outputs": []
    },
    {
      "cell_type": "code",
      "source": [
        "# convert keys in shopping_cart into a list\n",
        "# shopping_cart = {'pens':50, 'pencils':100, 'notebooks':200, 'ruler':150}\n",
        "list_keys = list(shopping_cart.keys())\n",
        "print(list_keys)"
      ],
      "metadata": {
        "id": "DEK6qGHQGqmB"
      },
      "execution_count": null,
      "outputs": []
    },
    {
      "cell_type": "code",
      "source": [],
      "metadata": {
        "id": "gh1OgN3rGqjQ"
      },
      "execution_count": null,
      "outputs": []
    },
    {
      "cell_type": "code",
      "source": [],
      "metadata": {
        "id": "gUHOdYmiGqg4"
      },
      "execution_count": null,
      "outputs": []
    },
    {
      "cell_type": "markdown",
      "source": [
        "## **5. Control Flows**  \n"
      ],
      "metadata": {
        "id": "qqGddBsgGuf5"
      }
    },
    {
      "cell_type": "code",
      "source": [],
      "metadata": {
        "id": "Qi20raahGqeu"
      },
      "execution_count": null,
      "outputs": []
    },
    {
      "cell_type": "code",
      "source": [],
      "metadata": {
        "id": "3t2_17wRGqcu"
      },
      "execution_count": null,
      "outputs": []
    },
    {
      "cell_type": "markdown",
      "source": [
        "## **6. Functions**  \n"
      ],
      "metadata": {
        "id": "5q7LGQSoGwk5"
      }
    },
    {
      "cell_type": "code",
      "source": [],
      "metadata": {
        "id": "a_q_ZexvGqZs"
      },
      "execution_count": null,
      "outputs": []
    },
    {
      "cell_type": "code",
      "source": [],
      "metadata": {
        "id": "RfxSjJXkGqW6"
      },
      "execution_count": null,
      "outputs": []
    },
    {
      "cell_type": "markdown",
      "source": [
        "### Mini Challenge 1  \n",
        "\n",
        "Write a program that computes the body mass index (BMI) of an individual.\n",
        "- Your program should begin by reading a height and weight from the user.  \n",
        "- Next, it should use one of the following two formulas to compute the BMI before displaying it.  \n",
        "- If the height is in inches and the weight is in pounds, then the body mass index is computed using the formula:  \n",
        "$$BMI = \\frac{weight}{height^2} \\times 703$$  \n",
        "- If the height is in meters and the weight is in kilograms, then the body mass index is computed using the formula thing:  \n",
        "$$BMI = \\frac{weight}{height^2}$$  \n",
        "\n",
        "- **bonus**: *Can you handle cases where the units are in a mix? For example, when a user provides his/her weight in kilograms and height in inches*"
      ],
      "metadata": {
        "id": "I93_wQZ1G5S_"
      }
    },
    {
      "cell_type": "code",
      "source": [],
      "metadata": {
        "id": "7WznGxgJG_8W"
      },
      "execution_count": null,
      "outputs": []
    },
    {
      "cell_type": "markdown",
      "source": [
        "### Mini Challenge 2  \n",
        "\n",
        "The rules for determining whether or not a year is a leap year is as follows:  \n",
        "• Any year that is divisible by 400 is a leap year.  \n",
        "• Of the remaining years, any year that is divisible by 100 is not a leap year.\n",
        "• Of the remaining years, any year that is divisible by 4 is a leap year.  \n",
        "• All other years are not leap years.  \n",
        "\n",
        "Write a program that reads a year from the user and displays a message indicating\n",
        "whether or not it is a leap year."
      ],
      "metadata": {
        "id": "2GwD-4qvG_iJ"
      }
    },
    {
      "cell_type": "code",
      "source": [],
      "metadata": {
        "id": "S1zfGB89G7FR"
      },
      "execution_count": null,
      "outputs": []
    }
  ]
}