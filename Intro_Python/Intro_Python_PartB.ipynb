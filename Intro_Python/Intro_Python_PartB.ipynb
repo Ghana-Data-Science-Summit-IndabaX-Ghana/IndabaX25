{
  "cells": [
    {
      "cell_type": "markdown",
      "metadata": {
        "id": "-6e-JiO9Fie1"
      },
      "source": [
        "## **4. Data Structures**   \n",
        "---\n",
        "Objective: Understand and work with Python's in-built data structures  \n"
      ]
    },
    {
      "cell_type": "markdown",
      "metadata": {
        "id": "4U4DMwQmji3H"
      },
      "source": [
        "### **4.1 Lists**  \n",
        "A list is a collection of ordered items, which are changeable (mutable). Lists are created using square brackets: `[ ]`  \n",
        "Properties of a list include:\n",
        "\n",
        "\n",
        "*   Ordered\n",
        "*   Mutable  \n",
        "*   Supports various data types\n",
        "\n"
      ]
    },
    {
      "cell_type": "markdown",
      "metadata": {
        "id": "0ivd8UTrGaRx"
      },
      "source": [
        "#### **Exercise I**"
      ]
    },
    {
      "cell_type": "code",
      "execution_count": null,
      "metadata": {
        "id": "DOT33Y4ME5mn"
      },
      "outputs": [],
      "source": [
        "# create a list of your favorite foods\n"
      ]
    },
    {
      "cell_type": "markdown",
      "metadata": {
        "id": "Y6wn-wpUFrjM"
      },
      "source": [
        "**Items in a list are accessed using the index**"
      ]
    },
    {
      "cell_type": "code",
      "execution_count": null,
      "metadata": {
        "id": "RXe7Rb3uFp4B"
      },
      "outputs": [],
      "source": [
        "list_1 = [10, 20, 30, 40, 50]\n",
        "\n",
        "# access the second item in the list\n",
        "print(list_1[1])"
      ]
    },
    {
      "cell_type": "code",
      "execution_count": null,
      "metadata": {
        "id": "LbZ5Ulj8Fp0n"
      },
      "outputs": [],
      "source": [
        "# get the last item in list_1\n",
        "\n",
        "list_1[-1]"
      ]
    },
    {
      "cell_type": "markdown",
      "metadata": {
        "id": "SAvMNDiRFwm3"
      },
      "source": [
        "#### **4.1.1 List Methods**  \n",
        "\n",
        "**Common Methods:**\n",
        "- `append()`\n",
        "\n",
        "- `extend()`\n",
        "\n",
        "- `insert()`\n",
        "\n",
        "- `remove()`\n",
        "\n",
        "- `pop()`\n",
        "\n",
        "- `index()`\n",
        "\n",
        "- `count()`\n",
        "\n",
        "- `sort()`\n",
        "\n",
        "- `reverse()`\n",
        "\n",
        "- `copy()`"
      ]
    },
    {
      "cell_type": "code",
      "execution_count": null,
      "metadata": {
        "id": "sYYV9nHMFpyF"
      },
      "outputs": [],
      "source": [
        "# example list\n",
        "african_countries = [\"Africa\", 100, \"Nigeria\", \"Senegal\", 20, 30, 40, 50, 7, 6, 5]"
      ]
    },
    {
      "cell_type": "code",
      "execution_count": null,
      "metadata": {
        "id": "fLMBQXJmF0Cp"
      },
      "outputs": [],
      "source": [
        "# append() method\n",
        "african_countries.append(\"Ghana\")  # add the string \"Ghana\" to the list\n",
        "african_countries"
      ]
    },
    {
      "cell_type": "code",
      "execution_count": null,
      "metadata": {
        "id": "kBywyQRaFz_i"
      },
      "outputs": [],
      "source": [
        "# extend() method\n",
        "african_countries.extend([\"Mali\", \"Egypt\"])\n",
        "print(african_countries)"
      ]
    },
    {
      "cell_type": "code",
      "execution_count": null,
      "metadata": {
        "id": "WnSTU21kFz9T"
      },
      "outputs": [],
      "source": [
        "# insert() method\n",
        "african_countries.insert(2, \"Ghana\")\n",
        "print(african_countries)"
      ]
    },
    {
      "cell_type": "code",
      "execution_count": null,
      "metadata": {
        "id": "LY_vCrZsFz6S"
      },
      "outputs": [],
      "source": [
        "# remove() method\n",
        "african_countries.remove(30)\n",
        "print(african_countries)"
      ]
    },
    {
      "cell_type": "code",
      "execution_count": null,
      "metadata": {
        "id": "HjKA9_7_Fz4E"
      },
      "outputs": [],
      "source": [
        "# reverse() method\n",
        "african_countries.reverse()\n",
        "print(african_countries)"
      ]
    },
    {
      "cell_type": "markdown",
      "metadata": {
        "id": "rdjngH3fF7h0"
      },
      "source": [
        "#### **4.1.2 Membership Operators**  \n",
        "  - These are used to check if an item is found in a data structure\n",
        "  - The return output is a boolean  \n",
        "  - The operators are `in` and `not in`"
      ]
    },
    {
      "cell_type": "code",
      "execution_count": null,
      "metadata": {
        "id": "TRPQYqz4Fz1k"
      },
      "outputs": [],
      "source": [
        "# create list of tutorial attendees\n",
        "attendees = []\n",
        "\n",
        "# check membership of person\n",
        "person_1 = \"Kofi\"\n",
        "person_2 = \"Ama\"\n",
        "\n",
        "# checking\n",
        "print(person_1 in attendees)\n",
        "print(person_2 not in attendees)"
      ]
    },
    {
      "cell_type": "markdown",
      "metadata": {
        "id": "yGWGhEXzGAEk"
      },
      "source": [
        "### **4.2 Tuples**  \n",
        "\n",
        "A **tuple** is a collection of items with the following properties:  \n",
        "- Ordered   \n",
        "- Immutable (items cannot be added or removed once a tuple is created)\n",
        "- Can hold different data types or data structures.  \n",
        "\n",
        "Tuples are created using the parenthesis `()` or `tuple()`\n",
        "\n"
      ]
    },
    {
      "cell_type": "code",
      "execution_count": null,
      "metadata": {
        "colab": {
          "base_uri": "https://localhost:8080/"
        },
        "id": "JAYaD3BVFpv1",
        "outputId": "fcd57103-f951-47ee-d805-0250ee65dc6b"
      },
      "outputs": [
        {
          "name": "stdout",
          "output_type": "stream",
          "text": [
            "(1, 2, 3, 4, 5, 5, 3, 4, 5, 17, 33, 29, 56, 11, 2, 3, 44, 2, 5, 22, 71)\n"
          ]
        }
      ],
      "source": [
        "# create a tuple\n",
        "tuple_1 = (1, 2, 3, 4, 5, 5, 3, 4, 5, 17, 33, 29, 56, 11, 2, 3, 44, 2, 5, 22, 71)\n",
        "print(tuple_1)"
      ]
    },
    {
      "cell_type": "code",
      "execution_count": null,
      "metadata": {
        "colab": {
          "base_uri": "https://localhost:8080/"
        },
        "id": "YyO7lLYuG5_a",
        "outputId": "61ae45db-5993-49d0-ac73-c100320668e9"
      },
      "outputs": [
        {
          "name": "stdout",
          "output_type": "stream",
          "text": [
            "<class 'tuple'>\n"
          ]
        }
      ],
      "source": [
        "tuple_2 = (2,)\n",
        "\n",
        "print(type(tuple_2))"
      ]
    },
    {
      "cell_type": "markdown",
      "metadata": {
        "id": "wnPd6huNGEpf"
      },
      "source": [
        "**Common Methods**  \n",
        "- `count`\n",
        "\n",
        "- `index`"
      ]
    },
    {
      "cell_type": "code",
      "execution_count": null,
      "metadata": {
        "id": "tit6IPURGFnq"
      },
      "outputs": [],
      "source": [
        "# count occurrences of 5 in tuple_1\n",
        "tuple_1.count(5)"
      ]
    },
    {
      "cell_type": "code",
      "execution_count": null,
      "metadata": {
        "id": "mQ_NHbiQGFko"
      },
      "outputs": [],
      "source": [
        "# find the index of an item in tuple_1\n",
        "tuple_1.index(33)"
      ]
    },
    {
      "cell_type": "markdown",
      "metadata": {
        "id": "SAUI9U0mGJnc"
      },
      "source": [
        "### **4.3 Sets**\n",
        "\n",
        "Sets are unordered collections of unique items with the following properties  \n",
        "\n",
        "- Unordered  \n",
        "- No duplicate elements  \n",
        "- Mutable, only for adding/removing elements  \n",
        "\n",
        "**Common Methods**  \n",
        "- `add()`\n",
        "\n",
        "- `remove()`\n",
        "\n",
        "- `discard()`\n",
        "\n",
        "- `union()`\n",
        "\n",
        "- `intersection()`\n",
        "\n",
        "- `difference()`\n",
        "\n",
        "- `clear()`"
      ]
    },
    {
      "cell_type": "code",
      "execution_count": null,
      "metadata": {
        "id": "AJCzhfHgGFig"
      },
      "outputs": [],
      "source": [
        "# create a set of numbers\n",
        "set_1 = {1, 2, 3, 4, 5, 6, 7, 8, 9, 10}\n",
        "print(set_1)"
      ]
    },
    {
      "cell_type": "code",
      "execution_count": null,
      "metadata": {
        "id": "IuwmIz7uGFgA"
      },
      "outputs": [],
      "source": [
        "# add an element to the set\n",
        "set_1.add(11)\n",
        "print(set_1)"
      ]
    },
    {
      "cell_type": "code",
      "execution_count": null,
      "metadata": {
        "id": "oUGwD8K1FptI"
      },
      "outputs": [],
      "source": [
        "# remove an element from the set\n",
        "set_1.remove(11)\n",
        "print(set_1)"
      ]
    },
    {
      "cell_type": "code",
      "execution_count": null,
      "metadata": {
        "id": "qws0VbP5Fpqw"
      },
      "outputs": [],
      "source": [
        "# discard an element from the set\n",
        "set_1.discard(10)\n",
        "print(set_1)"
      ]
    },
    {
      "cell_type": "code",
      "execution_count": null,
      "metadata": {
        "id": "sdxocvt6Fpor"
      },
      "outputs": [],
      "source": [
        "# create another set of even numbers and find the union\n",
        "\n",
        "set_2 = {2, 4, 6, 8, 10, 12, 14, 16, 18, 20}\n",
        "print(set_1.union(set_2))"
      ]
    },
    {
      "cell_type": "code",
      "execution_count": null,
      "metadata": {
        "id": "IdPLyB_zGRbq"
      },
      "outputs": [],
      "source": [
        "# find the intersection of the two sets\n",
        "print(set_1.intersection(set_2))"
      ]
    },
    {
      "cell_type": "code",
      "execution_count": null,
      "metadata": {
        "id": "LzUIKxInGRYP"
      },
      "outputs": [],
      "source": [
        "# find the difference of the two sets\n",
        "print(set_1.difference(set_2))"
      ]
    },
    {
      "cell_type": "code",
      "execution_count": null,
      "metadata": {
        "id": "UY4NY7qHGRWU"
      },
      "outputs": [],
      "source": [
        "# clear all elements from the list\n",
        "set_1.clear()\n",
        "print(set_1)"
      ]
    },
    {
      "cell_type": "markdown",
      "metadata": {
        "id": "Cvi5pxdQGWKS"
      },
      "source": [
        "### **4.4 Dictionaries**  \n",
        "\n",
        "A dictionary in python is a data structure that stores data in **key-value** pairs.  \n",
        "\n",
        "Dictionaries are mutable, and have unique keys.  \n",
        "\n",
        "**Common Methods**  \n",
        "- `keys()`\n",
        "- `values()`\n",
        "- `update()`\n",
        "- `items()`\n",
        "- `get()`\n",
        "- `clear()`."
      ]
    },
    {
      "cell_type": "code",
      "execution_count": null,
      "metadata": {
        "id": "KAy7j9JkGRT6"
      },
      "outputs": [],
      "source": [
        "# create a dictionary of school supplies\n",
        "shopping_cart = {'pens':50, 'pencils':100,\n",
        "              'notebooks':200, 'ruler':150,}\n",
        "\n",
        "print(shopping_cart)"
      ]
    },
    {
      "cell_type": "code",
      "execution_count": null,
      "metadata": {
        "id": "I07wJxvUGbAT"
      },
      "outputs": [],
      "source": [
        "# get all keys from the dictionary\n",
        "shopping_cart.keys()"
      ]
    },
    {
      "cell_type": "code",
      "execution_count": null,
      "metadata": {
        "id": "ENIYJCIfGa9B"
      },
      "outputs": [],
      "source": [
        "# get all values frm the dictionary\n",
        "shopping_cart.values()\n"
      ]
    },
    {
      "cell_type": "code",
      "execution_count": null,
      "metadata": {
        "id": "Z2Dnf2X1Ga7F"
      },
      "outputs": [],
      "source": [
        "# get all items(key-value pairs) from the dictionary\n",
        "all_items = shopping_cart.items()\n",
        "print(all_items)"
      ]
    },
    {
      "cell_type": "code",
      "execution_count": null,
      "metadata": {
        "id": "cYpUnvWaGRRH"
      },
      "outputs": [],
      "source": [
        "# retrieve the value of an item in the dictionary\n",
        "notebooks_cost = shopping_cart.get('notebooks')\n",
        "print(notebooks_cost)"
      ]
    },
    {
      "cell_type": "code",
      "execution_count": null,
      "metadata": {
        "id": "ydOFVJxDGhlL"
      },
      "outputs": [],
      "source": [
        "# update the dictionary with new items\n",
        "shopping_cart.update({'school bag': 300, 'textbooks':500})\n",
        "print(shopping_cart)"
      ]
    },
    {
      "cell_type": "code",
      "execution_count": null,
      "metadata": {
        "id": "YzhRtb-JGhht"
      },
      "outputs": [],
      "source": [
        "# clear all items from the dictionary\n",
        "shopping_cart.clear()\n",
        "print(shopping_cart)"
      ]
    },
    {
      "cell_type": "markdown",
      "metadata": {
        "id": "1Hj0QNQpGmAe"
      },
      "source": [
        "### **4.5 Type Casting**  \n",
        "\n",
        "This is the process of converting an object from one data type to another.  \n",
        "\n",
        "**Examples:**\n",
        "- List to Tuple: `tuple(list_1)`\n",
        "- Tuple to List: `list(tuple_1)`\n",
        "- List to Set: `set(list_1)`\n",
        "- Dictionary Keys to List: `list(shopping_cart.keys())`\n"
      ]
    },
    {
      "cell_type": "code",
      "execution_count": null,
      "metadata": {
        "id": "RAqtL2QBGhfB"
      },
      "outputs": [],
      "source": [
        "# convert list_1 to a tuple\n",
        "# list_1 = [10, 20, 30, 40, 50]\n",
        "tuple_1 = tuple(list_1)\n",
        "print(tuple_1)"
      ]
    },
    {
      "cell_type": "code",
      "execution_count": null,
      "metadata": {
        "id": "M5h4GHUXGhcp"
      },
      "outputs": [],
      "source": [
        "# convert tuple_1 into a list\n",
        "tuple_1 = (10, 20, 30, 40, 50)\n",
        "list_1 = list(tuple_1)\n",
        "print(list_1)"
      ]
    },
    {
      "cell_type": "code",
      "execution_count": null,
      "metadata": {
        "id": "ceGw982oGqo2"
      },
      "outputs": [],
      "source": [
        "# create list_2 and convert into a set\n",
        "list_2 = [10, 20, 30, 40, 50, 10, 20, 30, 40, 50]\n",
        "set_1 = set(list_2)\n",
        "print(set_1)"
      ]
    },
    {
      "cell_type": "code",
      "execution_count": null,
      "metadata": {
        "id": "DEK6qGHQGqmB"
      },
      "outputs": [],
      "source": [
        "# convert keys in shopping_cart into a list\n",
        "# shopping_cart = {'pens':50, 'pencils':100, 'notebooks':200, 'ruler':150}\n",
        "list_keys = list(shopping_cart.keys())\n",
        "print(list_keys)"
      ]
    },
    {
      "cell_type": "code",
      "execution_count": null,
      "metadata": {
        "id": "gh1OgN3rGqjQ"
      },
      "outputs": [],
      "source": []
    },
    {
      "cell_type": "code",
      "execution_count": null,
      "metadata": {
        "id": "gUHOdYmiGqg4"
      },
      "outputs": [],
      "source": []
    },
    {
      "cell_type": "markdown",
      "metadata": {
        "id": "qqGddBsgGuf5"
      },
      "source": [
        "## **5. Control Flow**   \n",
        "---\n",
        "\n",
        "Control flow refers to how your program/code is executed. This follows a particular order as defined by the user.\n",
        "\n",
        "*Imagine you're following a recipe to cook. Usually, you*  \n",
        "- *do things step by step*  \n",
        "- *make decisions (e.g. if the dough is too sticky, add more flour)*  \n",
        "- *repeat steps (continue to stir until smooth mixture)*  \n",
        "\n",
        "The same idea is implemented in **control flow** This helps your program, decide, repeat or skip certain actions.\n"
      ]
    },
    {
      "cell_type": "markdown",
      "metadata": {
        "id": "ye8-WmwALtET"
      },
      "source": [
        "### **5.1 Conditional Statements (If/else Statements)**  \n",
        "\n",
        "We take an action/decision when a condition is met or not met."
      ]
    },
    {
      "cell_type": "code",
      "execution_count": null,
      "metadata": {
        "id": "_ssdKRzpLquh"
      },
      "outputs": [],
      "source": [
        "# check if a statement is true\n",
        "if 10 > 5:\n",
        "  print(\"10 is greater than 5\")"
      ]
    },
    {
      "cell_type": "markdown",
      "metadata": {
        "id": "rlCyrVmoNsLZ"
      },
      "source": [
        "#### **Exercise II**"
      ]
    },
    {
      "cell_type": "markdown",
      "metadata": {
        "id": "cVpDtIUKOg57"
      },
      "source": [
        "- create variables for two numeric values and write a conditional statement of your choice\n"
      ]
    },
    {
      "cell_type": "code",
      "execution_count": null,
      "metadata": {
        "id": "Qi20raahGqeu"
      },
      "outputs": [],
      "source": []
    },
    {
      "cell_type": "markdown",
      "metadata": {
        "id": "21mY4P0PTiKR"
      },
      "source": [
        "* write a program to receive an input from a user and check if the input is odd or even."
      ]
    },
    {
      "cell_type": "code",
      "execution_count": null,
      "metadata": {
        "id": "AGY3uzsMThqh"
      },
      "outputs": [],
      "source": []
    },
    {
      "cell_type": "markdown",
      "metadata": {
        "id": "-41f7hL0Okle"
      },
      "source": [
        "- write a program to check if a person is eligible to vote.\n"
      ]
    },
    {
      "cell_type": "code",
      "execution_count": null,
      "metadata": {
        "id": "3t2_17wRGqcu"
      },
      "outputs": [],
      "source": []
    },
    {
      "cell_type": "markdown",
      "metadata": {
        "id": "K63LvE06OAfH"
      },
      "source": [
        "- write a program that checks if an item belongs to a list. If the item is in the list, the program should return the statement: \"  [item] is in the [list name] \""
      ]
    },
    {
      "cell_type": "code",
      "execution_count": null,
      "metadata": {
        "id": "xroT4cQkN2Yu"
      },
      "outputs": [],
      "source": []
    },
    {
      "cell_type": "markdown",
      "metadata": {
        "id": "mCeS-lIlNE1M"
      },
      "source": [
        "`if-elif-else` is a form of chained conditional statement that allows us to add more conditions"
      ]
    },
    {
      "cell_type": "code",
      "execution_count": null,
      "metadata": {
        "id": "WgPbezIHM2bm"
      },
      "outputs": [],
      "source": [
        "# if-elif-else implementation\n",
        "\n",
        "number = int(input(\"Enter a number\\n\")) #ask user for an input\n",
        "\n",
        "if number <= 10:\n",
        "    print(\"Number is less than or equal to 10\")\n",
        "\n",
        "elif number >10 and number <= 20:\n",
        "    print(\"Number is greater than 10 but less than or equal to 20\")\n",
        "\n",
        "elif number >20 and number <= 30:\n",
        "    print(\"Number is greater than 20 but less than or equal to  30\")\n",
        "\n",
        "else:\n",
        "    print(\"Number is greater than 30\")\n"
      ]
    },
    {
      "cell_type": "markdown",
      "metadata": {
        "id": "26AAGWCYPpji"
      },
      "source": [
        "### **5.1.1 Nested Condition**  \n",
        "\n",
        "Consider this as a condition in a condition."
      ]
    },
    {
      "cell_type": "markdown",
      "metadata": {
        "id": "vRIfhKxrSyTE"
      },
      "source": [
        "* Check if a number is even or odd, only when it is less than 10"
      ]
    },
    {
      "cell_type": "code",
      "execution_count": null,
      "metadata": {
        "id": "HUa1FUlPStQT"
      },
      "outputs": [],
      "source": [
        "num = int(input(\"Enter a number\\n\"))\n",
        "\n",
        "if num > 10:\n",
        "    print(f\"{num} is greater than  10.\")\n",
        "elif num == 10:\n",
        "    print(f\"{num} is equal 10\")\n",
        "else:\n",
        "    print(f\"{num} is less than 10\")\n",
        "    if num%2 ==0:\n",
        "        print(f\"{num} is an even number\")\n",
        "    else:\n",
        "\n",
        "        print(f\"The number {num} is not even.\")"
      ]
    },
    {
      "cell_type": "markdown",
      "metadata": {
        "id": "Ce2wk0QZQOnT"
      },
      "source": [
        "#### **Mini Challenge**  \n",
        "\n",
        "The eligible age for voting in Ghana is 18years. All adults (18 yrs and older) must have a voter's ID to be able to vote.  \n",
        "Write a program to check age voter eligibilty of individuals."
      ]
    },
    {
      "cell_type": "code",
      "execution_count": null,
      "metadata": {
        "id": "a55LSlw_QL_U"
      },
      "outputs": [],
      "source": []
    },
    {
      "cell_type": "code",
      "execution_count": null,
      "metadata": {
        "id": "vjO7qrYxQL7j"
      },
      "outputs": [],
      "source": []
    },
    {
      "cell_type": "markdown",
      "metadata": {
        "id": "yw3ryYM1VIHs"
      },
      "source": [
        "### **5.2 For Loop**  \n",
        "\n",
        "A `for` loop is used to iterate over a sequence and execute a block of code for each item in the sequence.  \n",
        "\n",
        "\n",
        "\n",
        "```\n",
        "for item in sequence:\n",
        "    #code to execute\n",
        "```\n",
        "\n"
      ]
    },
    {
      "cell_type": "code",
      "execution_count": null,
      "metadata": {
        "id": "mzIr3k9tQL39"
      },
      "outputs": [],
      "source": [
        "name = \"Ugene\"\n",
        "for letter in name:\n",
        "  print(letter)"
      ]
    },
    {
      "cell_type": "code",
      "execution_count": null,
      "metadata": {
        "id": "Jm439yIVWZ3d"
      },
      "outputs": [],
      "source": [
        "# iterate over a list of numbers\n",
        "nums = [2, 4, 6, 8, 10, 3, 5, 7]\n",
        "\n",
        "for num in nums:\n",
        "  print(num)"
      ]
    },
    {
      "cell_type": "code",
      "execution_count": null,
      "metadata": {
        "id": "hekw9ehGWZz9"
      },
      "outputs": [],
      "source": [
        "# add codition to be executed after iterating over nums\n",
        "\n",
        "for number in nums:\n",
        "  if number % 2 == 0:\n",
        "    print(f'{number} is an even number')\n",
        "  else:\n",
        "      print(f'{number} is an odd number')"
      ]
    },
    {
      "cell_type": "code",
      "execution_count": null,
      "metadata": {
        "id": "JJW3EpDcXUIx"
      },
      "outputs": [],
      "source": []
    },
    {
      "cell_type": "code",
      "execution_count": null,
      "metadata": {
        "id": "AnJYqWYOXUFN"
      },
      "outputs": [],
      "source": []
    },
    {
      "cell_type": "code",
      "execution_count": null,
      "metadata": {
        "colab": {
          "base_uri": "https://localhost:8080/"
        },
        "id": "MAVmWuUkWZwn",
        "outputId": "86191aba-99b6-43e2-ea63-c3e064319395"
      },
      "outputs": [
        {
          "name": "stdout",
          "output_type": "stream",
          "text": [
            "3 is less than 10\n",
            "12\n",
            "23\n",
            "4 is less than 10\n",
            "5 is less than 10\n",
            "7 is less than 10\n",
            "11\n",
            "9 is less than 10\n"
          ]
        }
      ],
      "source": [
        "list_numbers = [3,12,23,4,5,7,11,9]\n",
        "\n",
        "for number in list_numbers:\n",
        "    if number >10:\n",
        "        print(number)\n",
        "    else:\n",
        "        print(f\"{number} is less than 10\")"
      ]
    },
    {
      "cell_type": "code",
      "execution_count": null,
      "metadata": {
        "id": "yTUusVfVXTTO"
      },
      "outputs": [],
      "source": []
    },
    {
      "cell_type": "markdown",
      "metadata": {
        "id": "WWcU1tRxaMpV"
      },
      "source": [
        "#### **Exercise III**"
      ]
    },
    {
      "cell_type": "markdown",
      "metadata": {
        "id": "wgkehWBRaQeP"
      },
      "source": [
        "* Write a program to determine which items in the list below are prime numbers.  \n",
        "Display an appropriate message if the number is prime or not.\n",
        "\n",
        "```\n",
        "num_list = [1, 2, 3, 4, 5, 6, 7, 8, 9, 10 ,20, 30, 40, 50, 60, 70, 80, 90]\n",
        "```\n",
        "\n"
      ]
    },
    {
      "cell_type": "markdown",
      "metadata": {
        "id": "HFSfhHm8cCm2"
      },
      "source": [
        "#### **Mini Challenge**"
      ]
    },
    {
      "cell_type": "markdown",
      "metadata": {
        "id": "Ih5BOOCHcD7M"
      },
      "source": [
        "**1.**  Create a program that computes the average of a collection of values entered by the user. The user will enter 0 as a sentinel value to indicate  that no further values will be provided. Your program should display an appropriate\n",
        "error message if the first value entered by the user is 0."
      ]
    },
    {
      "cell_type": "code",
      "execution_count": null,
      "metadata": {
        "id": "ASWfK6ukcOGt"
      },
      "outputs": [],
      "source": []
    },
    {
      "cell_type": "code",
      "execution_count": null,
      "metadata": {
        "id": "HIgyrjjmcNyE"
      },
      "outputs": [],
      "source": []
    },
    {
      "cell_type": "markdown",
      "metadata": {
        "id": "JTbDhJosYNnS"
      },
      "source": [
        "\n",
        "\n",
        "**2.** The dictionary below contains scores for 3 contestants in the quiz.  \n",
        "Using a for loop,\n",
        "* determine the total scores of each contestant.\n",
        "* display the maximum score for each contestant  \n",
        "* display the minimum score for each contestant.\n",
        "\n",
        "\n",
        "\n",
        "```\n",
        "scores = {\"Kofi\":[33,45,39,68,90],\n",
        "          \"Ama\":[59,70,80,68,88],\n",
        "          \"Akua\":[44,98,60,52,70]}\n",
        "```\n",
        "\n",
        "\n"
      ]
    },
    {
      "cell_type": "code",
      "execution_count": null,
      "metadata": {
        "id": "Q051VPKlXTP-"
      },
      "outputs": [],
      "source": []
    },
    {
      "cell_type": "code",
      "execution_count": null,
      "metadata": {
        "id": "5KkpRGSAXTL0"
      },
      "outputs": [],
      "source": []
    },
    {
      "cell_type": "code",
      "execution_count": null,
      "metadata": {
        "id": "bEt3rJPqXS_9"
      },
      "outputs": [],
      "source": []
    },
    {
      "cell_type": "markdown",
      "metadata": {
        "id": "eorGsCbXbth8"
      },
      "source": [
        "### **5.3 While Loop**  \n",
        "\n",
        "A `while` loop is used to repeat a block of code as long as a condition is true.\n",
        "\n",
        "\n",
        "\n",
        "```\n",
        "while condition:\n",
        "    # do something\n",
        "```\n",
        "\n"
      ]
    },
    {
      "cell_type": "code",
      "execution_count": null,
      "metadata": {
        "colab": {
          "base_uri": "https://localhost:8080/"
        },
        "id": "vPRuCkrNcCRy",
        "outputId": "4be35e2a-9616-4e57-fefc-9a0c3437d648"
      },
      "outputs": [
        {
          "name": "stdout",
          "output_type": "stream",
          "text": [
            "Count is: 1\n",
            "Count is: 2\n",
            "Count is: 3\n",
            "Count is: 4\n",
            "Count is: 5\n"
          ]
        }
      ],
      "source": [
        "count = 1\n",
        "\n",
        "while count <= 5:\n",
        "    print(\"Count is:\", count)\n",
        "    count += 1  # add 1 each time\n"
      ]
    },
    {
      "cell_type": "code",
      "execution_count": null,
      "metadata": {
        "id": "l3pL1DOXcCOT"
      },
      "outputs": [],
      "source": []
    },
    {
      "cell_type": "markdown",
      "metadata": {
        "id": "yB3CgwlJeLc9"
      },
      "source": [
        "* Check if a number is even or odd, only when it is less than 10\n"
      ]
    },
    {
      "cell_type": "code",
      "execution_count": null,
      "metadata": {
        "id": "ecFIte0UcCLF"
      },
      "outputs": [],
      "source": [
        "num = int(input(\"Enter a number less than 10: \"))\n",
        "\n",
        "# Keep asking until the user inputs a number less than 10\n",
        "while num >= 10:\n",
        "    print(\"Number must be less than 10. Try again.\")\n",
        "    num = int(input(\"Enter a number less than 10: \"))\n",
        "\n",
        "\n",
        "\n",
        "# After user inputs number less than 10, the block below is executed\n",
        "print(f\"{num} is less than 10. Checking if it is even or odd...\")\n",
        "if num % 2 == 0:\n",
        "    print(f\"{num} is an even number\")\n",
        "else:\n",
        "    print(f\"The number {num} is odd\")\n"
      ]
    },
    {
      "cell_type": "code",
      "execution_count": null,
      "metadata": {
        "id": "xt3dqMnhcCIn"
      },
      "outputs": [],
      "source": []
    },
    {
      "cell_type": "markdown",
      "metadata": {
        "id": "RgBHa9jiMQLJ"
      },
      "source": [
        "#### **Exercise IV**  "
      ]
    },
    {
      "cell_type": "markdown",
      "metadata": {
        "id": "rWrXk7070WJ1"
      },
      "source": [
        "- Using a **while loop**, write a program that prints out the integers `2, 5, 8, 11, 14, 17 and 20` in that order,   \n",
        "all on the same line."
      ]
    },
    {
      "cell_type": "code",
      "execution_count": null,
      "metadata": {
        "id": "1YrUbj5x0aJv"
      },
      "outputs": [],
      "source": []
    },
    {
      "cell_type": "code",
      "execution_count": null,
      "metadata": {
        "id": "s6CkqPFg0aAw"
      },
      "outputs": [],
      "source": []
    },
    {
      "cell_type": "markdown",
      "metadata": {
        "id": "eNXTmwE6MTQf"
      },
      "source": [
        "* The password to your company database is `caput draconis`  \n",
        "ask a user to enter a password. If it's wrong, display the message `Incorrect Password. Tyr Again`. If the right password is entered, display `Access Granted!` and stop the loop.  \n",
        "\n",
        "  - **Bonus:**  \n",
        "* Can you add a restriction to your code to allow a maximum of 5 tries?"
      ]
    },
    {
      "cell_type": "code",
      "execution_count": null,
      "metadata": {
        "id": "t5KjOLTdRemA"
      },
      "outputs": [],
      "source": []
    },
    {
      "cell_type": "code",
      "execution_count": null,
      "metadata": {
        "id": "kbqnEi2bReY9"
      },
      "outputs": [],
      "source": []
    },
    {
      "cell_type": "markdown",
      "metadata": {
        "id": "5q7LGQSoGwk5"
      },
      "source": [
        "## **6. Functions**   \n",
        "---\n"
      ]
    },
    {
      "cell_type": "markdown",
      "metadata": {
        "id": "-_512a_AWKwa"
      },
      "source": [
        "A function is a block of code that performs a specifc task defined by the programmer.  \n",
        "\n",
        "Instead of repeating code over and over, write it in a function and reuse it whenever you want."
      ]
    },
    {
      "cell_type": "markdown",
      "metadata": {
        "id": "tWWAuaekYVpS"
      },
      "source": [
        "#### **Key Words**  \n",
        "- **ARGUMENTS:** Functions are created to accept input values. These input values are called `arguments`  \n",
        "\n",
        "- **PARAMETERS:** Parameters are the variables(place holders) in the function."
      ]
    },
    {
      "cell_type": "markdown",
      "metadata": {
        "id": "0WP-qNeBZe1E"
      },
      "source": [
        "### **6.1 Function Definition**\n",
        "Functions are defined using the `def` keyword. Example:  \n",
        "\n",
        "```\n",
        "def fxn(x):\n",
        "    result = 2*x + 1\n",
        "    return result\n",
        "```"
      ]
    },
    {
      "cell_type": "markdown",
      "metadata": {
        "id": "RFH7zCbBfiel"
      },
      "source": [
        "#### **6.1.1 Parts of the Function**  \n",
        "- `def` -- Function header  \n",
        "- `fxn` -- Function name  \n",
        "- `(x)` -- function parameter  \n",
        "- `result = 2*x + 1` -- Function body  \n",
        "- `return result` -- The return statement which has the `return` keyword. This makes the function keep the result for itslef for later reuse.\n",
        "\n",
        "- `Docstrings` -- Documentation strings provide descriptions of the function and how to use them. Docstrings are accessed using the `help()` python function."
      ]
    },
    {
      "cell_type": "code",
      "execution_count": null,
      "metadata": {
        "id": "CC7m5w1nyO0m"
      },
      "outputs": [],
      "source": [
        "# creating a mathematical function\n",
        "def fxn(x):\n",
        "    result = 2*x + 1\n",
        "    return result"
      ]
    },
    {
      "cell_type": "code",
      "execution_count": null,
      "metadata": {
        "id": "jLJUkXixyVmy"
      },
      "outputs": [],
      "source": [
        "fxn(4)"
      ]
    },
    {
      "cell_type": "code",
      "execution_count": null,
      "metadata": {
        "id": "a_q_ZexvGqZs"
      },
      "outputs": [],
      "source": [
        "# greeting function for tutorial participants\n",
        "def tutorial():\n",
        "  '''\n",
        "  This program greets tutorial participants\n",
        "  '''\n",
        "  student_name = input(\"Enter your name: \")\n",
        "  tutorial_name = input(\"Enter tutorial name\")\n",
        "  location = \"Ashesi University\"\n",
        "\n",
        "  print(f\"Welcome {student_name}, to the IndabaX 2025 {tutorial_name} tutorial at {location}\")"
      ]
    },
    {
      "cell_type": "code",
      "execution_count": null,
      "metadata": {
        "id": "8fVBNFZPx9p9"
      },
      "outputs": [],
      "source": [
        "type(tutorial)"
      ]
    },
    {
      "cell_type": "code",
      "execution_count": null,
      "metadata": {
        "id": "R6BLVrlAxAEX"
      },
      "outputs": [],
      "source": [
        "help(tutorial)"
      ]
    },
    {
      "cell_type": "code",
      "execution_count": null,
      "metadata": {
        "id": "RfxSjJXkGqW6"
      },
      "outputs": [],
      "source": [
        "tutorial()  # calls the function"
      ]
    },
    {
      "cell_type": "markdown",
      "metadata": {
        "id": "cg5LSliWqDaw"
      },
      "source": [
        "#### **6.1.2 Inputs from a User**  \n",
        "\n",
        "- The `input()` function is used to receive an input from the user, ready to be evaluated.  \n",
        "\n",
        "- The `input()` function always returns a string"
      ]
    },
    {
      "cell_type": "code",
      "execution_count": null,
      "metadata": {
        "colab": {
          "base_uri": "https://localhost:8080/"
        },
        "id": "BI1CrKGAtt95",
        "outputId": "3435d60a-4423-4a27-e934-e3482ef71f68"
      },
      "outputs": [
        {
          "name": "stdout",
          "output_type": "stream",
          "text": [
            "Enter your name: ugene\n",
            "<class 'str'>\n"
          ]
        }
      ],
      "source": [
        "# example\n",
        "name = input(\"Enter your name: \")\n",
        "print(type(name))"
      ]
    },
    {
      "cell_type": "code",
      "execution_count": null,
      "metadata": {
        "id": "ltn5fxSUt1lN"
      },
      "outputs": [],
      "source": []
    },
    {
      "cell_type": "code",
      "execution_count": null,
      "metadata": {
        "id": "foqW4EW2t1JR"
      },
      "outputs": [],
      "source": []
    },
    {
      "cell_type": "code",
      "execution_count": null,
      "metadata": {
        "id": "SfQRnjsdt1F-"
      },
      "outputs": [],
      "source": []
    },
    {
      "cell_type": "code",
      "execution_count": null,
      "metadata": {
        "id": "YoCpgypet1DA"
      },
      "outputs": [],
      "source": []
    },
    {
      "cell_type": "code",
      "execution_count": null,
      "metadata": {
        "id": "VTXq8ovzt1AZ"
      },
      "outputs": [],
      "source": []
    },
    {
      "cell_type": "markdown",
      "metadata": {
        "id": "8z617-Ch0z45"
      },
      "source": [
        "### **6.2 Variable Scope**  \n",
        "*This refers to the portion of a program that a variable can be referenced. We have the local variable and the global variable*  \n",
        "\n",
        "- **Local Variable:** This is a variable that is defined within the function and can be accessed only within the function.\n",
        "\n",
        "- **Global Variable:** A variable defined outside a function and can be accessed in any part of the program."
      ]
    },
    {
      "cell_type": "code",
      "execution_count": null,
      "metadata": {
        "id": "pct0zacL1fSB"
      },
      "outputs": [],
      "source": [
        "num = 5 #Global variable\n",
        "\n",
        "def display():\n",
        "    num = 10  #local variable\n",
        "    print(f\"The number is {num}\")\n"
      ]
    },
    {
      "cell_type": "code",
      "execution_count": null,
      "metadata": {
        "id": "QljhwCpp1fOh"
      },
      "outputs": [],
      "source": [
        "display()"
      ]
    },
    {
      "cell_type": "code",
      "execution_count": null,
      "metadata": {
        "id": "e4vw5JLB1fML"
      },
      "outputs": [],
      "source": []
    },
    {
      "cell_type": "markdown",
      "metadata": {
        "id": "Zo9QZt6kl2C6"
      },
      "source": [
        "#### **Exploring Positional Arguments**"
      ]
    },
    {
      "cell_type": "code",
      "execution_count": null,
      "metadata": {
        "id": "b220y3qk1fJi"
      },
      "outputs": [],
      "source": [
        "# function for bmi\n",
        "def bmi(weight, height):\n",
        "  return weight / height**2"
      ]
    },
    {
      "cell_type": "code",
      "execution_count": null,
      "metadata": {
        "id": "DjQUpp7Nnzkm"
      },
      "outputs": [],
      "source": [
        "bmi(55,1.76)"
      ]
    },
    {
      "cell_type": "code",
      "execution_count": null,
      "metadata": {
        "id": "EZHLCCZBnzho"
      },
      "outputs": [],
      "source": [
        "bmi(1.76,55)"
      ]
    },
    {
      "cell_type": "markdown",
      "metadata": {
        "id": "xxVv_MIfoFIA"
      },
      "source": [
        "*The concept of positional argument reveals that the position of arguments placed in a function is important and can affect the output/result returned.*"
      ]
    },
    {
      "cell_type": "markdown",
      "metadata": {
        "id": "thsmws9vongJ"
      },
      "source": [
        "#### **Exercise V**"
      ]
    },
    {
      "cell_type": "markdown",
      "metadata": {
        "id": "duCZICHmosIc"
      },
      "source": [
        "Create a simple calculator function that performs the basic operations: addition: `+`, subtraction ` -`, multiplication `×` and division `/`.  \n",
        "\n",
        "  Your function should return **\"invalid operator\"** if any other operator is used."
      ]
    },
    {
      "cell_type": "code",
      "execution_count": null,
      "metadata": {
        "id": "dnX6zeNRnzdn"
      },
      "outputs": [],
      "source": []
    },
    {
      "cell_type": "code",
      "execution_count": null,
      "metadata": {
        "id": "yejfFFT9NjVk"
      },
      "outputs": [],
      "source": []
    },
    {
      "cell_type": "markdown",
      "metadata": {
        "id": "I93_wQZ1G5S_"
      },
      "source": [
        "### Mini Challenge\n",
        "\n",
        "\n",
        "Write a program that computes the body mass index (BMI) of an individual.\n",
        "- Your program should begin by reading a height and weight from the user.  \n",
        "- Next, it should use one of the following two formulas to compute the BMI before displaying it.  \n",
        "- If the height is in inches and the weight is in pounds, then the body mass index is computed using the formula:  \n",
        "$$BMI = \\frac{weight}{height^2} \\times 703$$  \n",
        "- If the height is in meters and the weight is in kilograms, then the body mass index is computed using the formula thing:  \n",
        "$$BMI = \\frac{weight}{height^2}$$  \n",
        "\n",
        "- **bonus**: *Can you handle cases where the units are in a mix? For example, when a user provides his/her weight in kilograms and height in inches*"
      ]
    },
    {
      "cell_type": "code",
      "execution_count": null,
      "metadata": {
        "id": "7WznGxgJG_8W"
      },
      "outputs": [],
      "source": []
    },
    {
      "cell_type": "markdown",
      "metadata": {
        "id": "MuJZdAYQP1z9"
      },
      "source": [
        "### Mini Challenge  \n",
        "\n",
        "Below is a description of how to find the Easter date of any year. Write a function called `easter()` that  \n",
        "takes any year and returns a string with the Easter date in that year. _**Despite its intimidating appearance,\n",
        "this is not a hard problem.**_   \n",
        "Note that\n",
        "$⌊x⌋$ is the *`floor`* function, which for positive numbers: just drops\n",
        "the decimal part of the number.  \n",
        "In Python $⌊\\frac{x}{y}⌋$ is $x // y.$  \n",
        "\n",
        "Variables Involved:\n",
        "\n",
        "- $C =  century \\hspace{0.1cm} (1990s → C = 19)$  \n",
        "- $Y =  year \\hspace{0.1cm} (all \\hspace{0.1cm}four \\hspace{0.1cm}digits) $\n",
        "- $m = (15 + C - ⌊\\frac{C}{4}⌋ - ⌊\\frac{8C + 13}{25}⌋ ) \\hspace{0.1cm} mod \\hspace{0.1cm}30$  \n",
        "- $n = (4 + C - ⌊\\frac{C}{4}⌋ ) \\hspace{0.1cm} mod \\hspace{0.1cm} 7$  \n",
        "- $a = Y \\hspace{0.1cm} mod \\hspace{0.1cm} 4$  \n",
        "- $b = Y \\hspace{0.1cm} mod \\hspace{0.1cm} 7$  \n",
        "- $c = Y \\hspace{0.1cm} mod \\hspace{0.1cm} 19$  \n",
        "- $d = (19c + m) \\hspace{0.1cm} mod \\hspace{0.1cm} 30$\n",
        "- $e = (2a + 4b + 6d + n) \\hspace{0.1cm} mod \\hspace{0.1cm} 7$  \n",
        "\n",
        "Easter is either **March** $(22 + d + e)$ or **April** $(d + e - 9)$. There is an exception if $d = 29$ and $e = 6$.   \n",
        "In this case, Easter falls one week earlier on April 19. There is another exception if $d = 28$ and $e = 6$, and $m = 2, 5, 10, 13, 16, 21, 24, or \\hspace{0.1cm}39.$   \n",
        "In this case, Easter falls one week earlier on April 18.\n",
        "\n"
      ]
    },
    {
      "cell_type": "code",
      "execution_count": null,
      "metadata": {
        "id": "QzYHr6EUryyq"
      },
      "outputs": [],
      "source": []
    },
    {
      "cell_type": "code",
      "execution_count": null,
      "metadata": {
        "id": "hGeElLtNryvL"
      },
      "outputs": [],
      "source": []
    },
    {
      "cell_type": "markdown",
      "metadata": {
        "id": "PQNXkdHxCyWD"
      },
      "source": [
        "## **Be Bold. Be Creative.**  \n",
        "This section entails challenges for all participants to try hands on.  \n",
        "\n",
        "These are designed to test your creativity and problem solving using the concepts discussed in this tutorial.  \n",
        "\n",
        "_All Hands!_"
      ]
    },
    {
      "cell_type": "markdown",
      "metadata": {
        "id": "2GwD-4qvG_iJ"
      },
      "source": [
        "### **1. The Leap Year Test**  \n",
        "\n",
        "The rules for determining whether or not a year is a leap year is as follows:  \n",
        "• Any year that is divisible by 400 is a leap year.  \n",
        "• Of the remaining years, any year that is divisible by 100 is not a leap year.  \n",
        "• Of the remaining years, any year that is divisible by 4 is a leap year.  \n",
        "• All other years are not leap years.  \n",
        "\n",
        "Write a program that reads a year from the user and displays a message indicating\n",
        "whether or not it is a leap year."
      ]
    },
    {
      "cell_type": "code",
      "execution_count": null,
      "metadata": {
        "id": "S1zfGB89G7FR"
      },
      "outputs": [],
      "source": []
    },
    {
      "cell_type": "markdown",
      "metadata": {
        "id": "711MfD_UFBdW"
      },
      "source": [
        "### **2. Troski ProMax**  \n",
        "\n",
        "In Accra, trotro (troski) fares vary based on distance, destination and sometimes, road conditions. You are required to help design a small system  \n",
        "for a troki startup seeking to reshape troski operations in Accra.  \n",
        "The startup plans to introduce autonomous public transport services, where users/passengers book rides in advance.\n",
        "\n",
        "System Requirements:  \n",
        "Designed for the users/passengers, the System should.  \n",
        "- Receive the user's name and display a wlecome message\n",
        "- Show a list of available destinations with their fares  \n",
        "- Take the user's destination and number of passengers\n",
        "- Calculate the total fare for the user  \n",
        "- Apply discounts for students and Children  \n",
        "- Resturn a final summary of the trip"
      ]
    },
    {
      "cell_type": "code",
      "execution_count": null,
      "metadata": {
        "id": "NQ0d8Jv2JY92"
      },
      "outputs": [],
      "source": []
    },
    {
      "cell_type": "code",
      "execution_count": null,
      "metadata": {
        "id": "8qP25dg6JYj9"
      },
      "outputs": [],
      "source": []
    },
    {
      "cell_type": "markdown",
      "metadata": {
        "id": "kQD3p1nOJZzQ"
      },
      "source": [
        "### **3. Chop Bar Menu Simulator**  \n",
        "\n",
        "Create a chop bar menu system that displays the available menu, takes orders of customers and prints out the total bil."
      ]
    },
    {
      "cell_type": "code",
      "execution_count": null,
      "metadata": {
        "id": "9XXjtyVaM6-a"
      },
      "outputs": [],
      "source": []
    },
    {
      "cell_type": "code",
      "execution_count": null,
      "metadata": {
        "id": "T4TQDCYXM67C"
      },
      "outputs": [],
      "source": []
    },
    {
      "cell_type": "markdown",
      "metadata": {
        "id": "ZwnP3VBH5iJP"
      },
      "source": [
        "# TUTORIAL FEEDBACK\n",
        "![Day2_feedback.png](data:image/png;base64,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)"
      ]
    },
    {
      "cell_type": "code",
      "execution_count": null,
      "metadata": {
        "id": "pAJD_8fF5oWz"
      },
      "outputs": [],
      "source": []
    }
  ],
  "metadata": {
    "colab": {
      "provenance": []
    },
    "kernelspec": {
      "display_name": "Python 3",
      "name": "python3"
    },
    "language_info": {
      "name": "python"
    }
  },
  "nbformat": 4,
  "nbformat_minor": 0
}
