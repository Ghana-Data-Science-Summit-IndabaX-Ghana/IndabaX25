{
  "nbformat": 4,
  "nbformat_minor": 0,
  "metadata": {
    "colab": {
      "provenance": [],
      "toc_visible": true
    },
    "kernelspec": {
      "name": "python3",
      "display_name": "Python 3"
    },
    "language_info": {
      "name": "python"
    }
  },
  "cells": [
    {
      "cell_type": "markdown",
      "source": [
        "# **Tutorial Title**"
      ],
      "metadata": {
        "id": "GBU0qhHkwMLh"
      }
    },
    {
      "cell_type": "markdown",
      "source": [
        "# **List comprehensions are fast, but generators are faster!?**"
      ],
      "metadata": {
        "id": "8cfQnzJP6j4p"
      }
    },
    {
      "cell_type": "markdown",
      "source": [
        "# **Table of Contents**"
      ],
      "metadata": {
        "id": "-4eORl1owoYM"
      }
    },
    {
      "cell_type": "markdown",
      "source": [
        "1.   Introduction\n",
        "2.   Prerequisites\n",
        "3.   Step-by-Step Guide\n",
        "4.   Code Examples\n",
        "5.   Troubleshooting\n",
        "6.   Conclusion\n",
        "7.   References"
      ],
      "metadata": {
        "id": "3rktFJS3x61u"
      }
    },
    {
      "cell_type": "markdown",
      "source": [
        "## **Introduction**\n",
        "\n",
        "\"List comprehensions are fast, but generators are faster!?\" - No, not really (or significantly, see the benchmarks below). So what's the reason to prefer one over the other?\n",
        "\n",
        "use lists if you want to use the plethora of list methods\n",
        "use generators when you are dealing with huge collections to avoid memory issues"
      ],
      "metadata": {
        "id": "4lYkiZQ9615A"
      }
    },
    {
      "cell_type": "markdown",
      "source": [
        "## **Prerequisites**\n",
        "\n",
        "Before diving into comparisons, readers should be familiar with:\n",
        "\n",
        "Python lists and iteration\n",
        "\n",
        "List comprehensions and generator expressions\n",
        "\n",
        "The concept of memory management in Python"
      ],
      "metadata": {
        "id": "yu2Do46B7KKE"
      }
    },
    {
      "cell_type": "markdown",
      "source": [
        "## **Step-by-Step Guide**"
      ],
      "metadata": {
        "id": "68QxNBWC8Q0e"
      }
    },
    {
      "cell_type": "markdown",
      "source": [
        "This section breaks down the differences between list comprehensions and generators, explaining their memory usage, execution speed, and efficiency with large datasets. A comparison of how each structure handles iteration will be provided."
      ],
      "metadata": {
        "id": "rSJ87tZH807j"
      }
    },
    {
      "cell_type": "markdown",
      "source": [
        "## **Code Examples**"
      ],
      "metadata": {
        "id": "5XwMtYrX7k_a"
      }
    },
    {
      "cell_type": "code",
      "source": [
        "import timeit\n",
        "\n",
        "\n",
        "def plainlist(n=100000):\n",
        "    my_list = []\n",
        "    for i in range(n):\n",
        "        if i % 5 == 0:\n",
        "            my_list.append(i)\n",
        "    return my_list\n",
        "\n",
        "\n",
        "def listcompr(n=100000):\n",
        "    my_list = [i for i in range(n) if i % 5 == 0]\n",
        "    return my_list\n",
        "\n",
        "\n",
        "def generator(n=100000):\n",
        "    my_gen = (i for i in range(n) if i % 5 == 0)\n",
        "    return my_gen\n",
        "\n",
        "\n",
        "def generator_yield(n=100000):\n",
        "    for i in range(n):\n",
        "        if i % 5 == 0:\n",
        "            yield i"
      ],
      "metadata": {
        "id": "0ESgJlcV7q9u"
      },
      "execution_count": null,
      "outputs": []
    },
    {
      "cell_type": "markdown",
      "source": [
        "**To be fair to the list, let us exhaust the generators:**"
      ],
      "metadata": {
        "id": "ZjIjKNCs7y9Y"
      }
    },
    {
      "cell_type": "code",
      "source": [
        "def test_plainlist(plain_list):\n",
        "    for i in plain_list():\n",
        "        pass\n",
        "\n",
        "\n",
        "def test_listcompr(listcompr):\n",
        "    for i in listcompr():\n",
        "        pass\n",
        "\n",
        "\n",
        "def test_generator(generator):\n",
        "    for i in generator():\n",
        "        pass\n",
        "\n",
        "\n",
        "def test_generator_yield(generator_yield):\n",
        "    for i in generator_yield():\n",
        "        pass\n",
        "\n",
        "\n",
        "print('plain_list:     ', end='')\n",
        "%timeit test_plainlist(plainlist)\n",
        "print('\\nlistcompr:     ', end='')\n",
        "%timeit test_listcompr(listcompr)\n",
        "print('\\ngenerator:     ', end='')\n",
        "%timeit test_generator(generator)\n",
        "print('\\ngenerator_yield:     ', end='')\n",
        "%timeit test_generator_yield(generator_yield)"
      ],
      "metadata": {
        "id": "cza7105K74e2"
      },
      "execution_count": null,
      "outputs": []
    },
    {
      "cell_type": "markdown",
      "source": [
        "## **Troubleshooting**"
      ],
      "metadata": {
        "id": "ibhDdXNL9RGo"
      }
    },
    {
      "cell_type": "markdown",
      "source": [
        "Common pitfalls when working with generators and list comprehensions, such as:\n",
        "\n",
        "Why generators don’t support indexing\n",
        "\n",
        "*   How to convert a generator to a list when needed\n",
        "*   Debugging performance issues in large data processing\n",
        "\n",
        "\n",
        "\n",
        "\n"
      ],
      "metadata": {
        "id": "Pk2vPuIF9U8C"
      }
    },
    {
      "cell_type": "markdown",
      "source": [
        "## **Conclusion**"
      ],
      "metadata": {
        "id": "r4l2OPG99m3m"
      }
    },
    {
      "cell_type": "markdown",
      "source": [
        "A summary of key takeaways, reinforcing that while list comprehensions are faster for small datasets, generators excel in memory efficiency for large data streams. A recommendation on when to use each method will be provided."
      ],
      "metadata": {
        "id": "51_fRp-v9qhl"
      }
    },
    {
      "cell_type": "markdown",
      "source": [
        "## **References**"
      ],
      "metadata": {
        "id": "Qo6PRDgU9ybM"
      }
    },
    {
      "cell_type": "markdown",
      "source": [
        "Links to Python documentation, performance benchmarking resources, and other relevant articles for further reading."
      ],
      "metadata": {
        "id": "wDJ1XLsa91PY"
      }
    },
    {
      "cell_type": "markdown",
      "source": [
        "# **Facilitator(s) Details**"
      ],
      "metadata": {
        "id": "36XXQVW3zgBG"
      }
    },
    {
      "cell_type": "markdown",
      "source": [
        "**Facilitator(s):**\n",
        "\n",
        "*   Name: [Facilitator's Name]\n",
        "*   Email: [Facilitator's Email]\n",
        "*   LinkedIn: [Facilitator's LinkedIn]\n",
        "\n",
        "\n",
        "\n",
        "\n",
        "\n"
      ],
      "metadata": {
        "id": "F2JnCxDm1l3G"
      }
    },
    {
      "cell_type": "markdown",
      "source": [
        "# **Reviewer’s Name**"
      ],
      "metadata": {
        "id": "ZZ5Y6jAb7HkV"
      }
    },
    {
      "cell_type": "markdown",
      "source": [
        "*   Name: [Reviewer’s Name]\n",
        "\n"
      ],
      "metadata": {
        "id": "rjqnG1Qb7ZuV"
      }
    }
  ]
}