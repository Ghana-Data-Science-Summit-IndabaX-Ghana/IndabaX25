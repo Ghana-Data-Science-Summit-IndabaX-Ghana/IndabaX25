{
  "nbformat": 4,
  "nbformat_minor": 0,
  "metadata": {
    "colab": {
      "provenance": [],
      "toc_visible": true
    },
    "kernelspec": {
      "name": "python3",
      "display_name": "Python 3"
    },
    "language_info": {
      "name": "python"
    }
  },
  "cells": [
    {
      "cell_type": "markdown",
      "source": [
        "# **Tutorial Title**"
      ],
      "metadata": {
        "id": "GBU0qhHkwMLh"
      }
    },
    {
      "cell_type": "markdown",
      "source": [
        "### Add title here"
      ],
      "metadata": {
        "id": "8cfQnzJP6j4p"
      }
    },
    {
      "cell_type": "markdown",
      "source": [
        "# **Table of Contents**"
      ],
      "metadata": {
        "id": "-4eORl1owoYM"
      }
    },
    {
      "cell_type": "markdown",
      "source": [
        "1.   Introduction\n",
        "2.   Prerequisites\n",
        "3.   Step-by-Step Guide\n",
        "4.   Code Examples\n",
        "5.   Troubleshooting\n",
        "6.   Conclusion\n",
        "7.   References"
      ],
      "metadata": {
        "id": "3rktFJS3x61u"
      }
    },
    {
      "cell_type": "markdown",
      "source": [
        "# **Facilitator(s) Details**"
      ],
      "metadata": {
        "id": "36XXQVW3zgBG"
      }
    },
    {
      "cell_type": "markdown",
      "source": [
        "**Facilitator(s):**\n",
        "\n",
        "*   Name: [Facilitator's Name]\n",
        "*   Email: [Facilitator's Email]\n",
        "*   LinkedIn: [Facilitator's LinkedIn]\n",
        "\n",
        "\n",
        "\n",
        "\n",
        "\n"
      ],
      "metadata": {
        "id": "F2JnCxDm1l3G"
      }
    },
    {
      "cell_type": "markdown",
      "source": [
        "# **Reviewer’s Name**"
      ],
      "metadata": {
        "id": "ZZ5Y6jAb7HkV"
      }
    },
    {
      "cell_type": "markdown",
      "source": [
        "*   Name: [Reviewer’s Name]\n",
        "\n"
      ],
      "metadata": {
        "id": "rjqnG1Qb7ZuV"
      }
    }
  ]
}