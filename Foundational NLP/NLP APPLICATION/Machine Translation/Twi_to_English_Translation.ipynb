{
 "cells": [
  {
   "cell_type": "markdown",
   "id": "3d92d00e",
   "metadata": {},
   "source": [
    "# Twi-to-English Neural Machine Translation with Attention"
   ]
  },
  {
   "cell_type": "markdown",
   "id": "f6e38cac",
   "metadata": {},
   "source": [
    "## Overview\n",
    "This tutorial demonstrates how to build a neural machine translation model that translates from Twi (a Ghanaian language) to English using PyTorch. The model uses a **Sequence-to-Sequence (Seq2Seq) architecture** with an **attention mechanism**."
   ]
  },
  {
   "cell_type": "markdown",
   "id": "e069e623",
   "metadata": {},
   "source": [
    "### Key Components:\n",
    "1. **Encoder**\n",
    "2. **Attention Mechanism**\n",
    "3. **Decoder**\n",
    "4. **Teacher Forcing**"
   ]
  },
  {
   "cell_type": "markdown",
   "id": "05353cf9",
   "metadata": {},
   "source": [
    "## Part 1: Data Preparation and Tokenization"
   ]
  },
  {
   "cell_type": "code",
   "execution_count": null,
   "id": "70d57599",
   "metadata": {},
   "outputs": [],
   "source": [
    "import numpy as np\n",
    "import torch\n",
    "import torch.nn as nn\n",
    "import torch.optim as optim\n",
    "from torch.utils.data import Dataset, DataLoader\n",
    "import random\n",
    "\n",
    "twi_sentences = [\n",
    "    \"Me din de John\", \"Ɛte sɛn?\", \"Meda wo ase\", \"Me pɛ sɛ me kɔ fie\", \n",
    "    \"Ɛhɔ yɛ fɛ\", \"Me dɔ wo\", \"Aduane no yɛ dɛ\", \"Nnipa no reba\", \n",
    "    \"Mepɛ sɛ mesua Twi\", \"Ɛnnɛ yɛ Memeneda\"\n",
    "]\n",
    "\n",
    "english_sentences = [\n",
    "    \"My name is John\", \"How are you?\", \"Thank you\", \"I want to go home\", \n",
    "    \"It is beautiful there\", \"I love you\", \"The food is delicious\", \n",
    "    \"The people are coming\", \"I want to learn Twi\", \"Today is Saturday\"\n",
    "]"
   ]
  },
  {
   "cell_type": "code",
   "execution_count": null,
   "id": "8dcd0ace",
   "metadata": {},
   "outputs": [],
   "source": [
    "def tokenize(sentences):\n",
    "    vocab = set()\n",
    "    for sentence in sentences:\n",
    "        for word in sentence.lower().split():\n",
    "            vocab.add(word)\n",
    "    vocab.update(['<pad>', '<sos>', '<eos>', '<unk>'])\n",
    "    word2idx = {word: idx for idx, word in enumerate(sorted(vocab))}\n",
    "    idx2word = {idx: word for word, idx in word2idx.items()}\n",
    "    return word2idx, idx2word\n",
    "\n",
    "twi_word2idx, twi_idx2word = tokenize(twi_sentences)\n",
    "eng_word2idx, eng_idx2word = tokenize(english_sentences)\n",
    "\n",
    "twi_vocab_size = len(twi_word2idx)\n",
    "eng_vocab_size = len(eng_word2idx)\n",
    "\n",
    "print(f\"Twi vocabulary size: {twi_vocab_size}\")\n",
    "print(f\"English vocabulary size: {eng_vocab_size}\")"
   ]
  },
  {
   "cell_type": "markdown",
   "id": "9c827f4c",
   "metadata": {},
   "source": [
    "## Part 2: Dataset Class and Data Loading"
   ]
  },
  {
   "cell_type": "code",
   "execution_count": null,
   "id": "a159882d",
   "metadata": {},
   "outputs": [],
   "source": [
    "def sentence_to_indices(sentence, word2idx):\n",
    "    return [word2idx.get(word.lower(), word2idx['<unk>']) for word in sentence.split()]\n",
    "\n",
    "class TranslationDataset(Dataset):\n",
    "    def __init__(self, twi_sentences, eng_sentences, twi_word2idx, eng_word2idx):\n",
    "        self.twi_data = []\n",
    "        self.eng_data = []\n",
    "        for twi_sentence, eng_sentence in zip(twi_sentences, eng_sentences):\n",
    "            twi_indices = sentence_to_indices(twi_sentence, twi_word2idx)\n",
    "            eng_indices = [eng_word2idx['<sos>']] + sentence_to_indices(eng_sentence, eng_word2idx) + [eng_word2idx['<eos>']]\n",
    "            self.twi_data.append(twi_indices)\n",
    "            self.eng_data.append(eng_indices)\n",
    "\n",
    "    def __len__(self):\n",
    "        return len(self.twi_data)\n",
    "\n",
    "    def __getitem__(self, idx):\n",
    "        return self.twi_data[idx], self.eng_data[idx]"
   ]
  },
  {
   "cell_type": "code",
   "execution_count": null,
   "id": "ffac5c2a",
   "metadata": {},
   "outputs": [],
   "source": [
    "def collate_fn(batch):\n",
    "    twi_batch, eng_batch = [], []\n",
    "    twi_lengths, eng_lengths = [], []\n",
    "    for twi_item, eng_item in batch:\n",
    "        twi_batch.append(twi_item)\n",
    "        eng_batch.append(eng_item)\n",
    "        twi_lengths.append(len(twi_item))\n",
    "        eng_lengths.append(len(eng_item))\n",
    "\n",
    "    max_twi_len = max(twi_lengths)\n",
    "    max_eng_len = max(eng_lengths)\n",
    "\n",
    "    twi_padded = [x + [twi_word2idx['<pad>']] * (max_twi_len - len(x)) for x in twi_batch]\n",
    "    eng_padded = [x + [eng_word2idx['<pad>']] * (max_eng_len - len(x)) for x in eng_batch]\n",
    "\n",
    "    return torch.LongTensor(twi_padded), torch.LongTensor(eng_padded), torch.LongTensor(twi_lengths), torch.LongTensor(eng_lengths)\n",
    "\n",
    "dataset = TranslationDataset(twi_sentences, english_sentences, twi_word2idx, eng_word2idx)\n",
    "dataloader = DataLoader(dataset, batch_size=1, shuffle=True, collate_fn=collate_fn)"
   ]
  },
  {
   "cell_type": "markdown",
   "id": "2a2f2b2d",
   "metadata": {},
   "source": [
    "## Part 3: Model Architecture"
   ]
  },
  {
   "cell_type": "code",
   "execution_count": null,
   "id": "b047db82",
   "metadata": {},
   "outputs": [],
   "source": [
    "class Encoder(nn.Module):\n",
    "    def __init__(self, input_size, embedding_size, hidden_size):\n",
    "        super(Encoder, self).__init__()\n",
    "        self.hidden_size = hidden_size\n",
    "        self.embedding = nn.Embedding(input_size, embedding_size)\n",
    "        self.lstm = nn.LSTM(embedding_size, hidden_size, batch_first=True)\n",
    "\n",
    "    def forward(self, src):\n",
    "        embedded = self.embedding(src)\n",
    "        outputs, (hidden, cell) = self.lstm(embedded)\n",
    "        return outputs, hidden, cell"
   ]
  },
  {
   "cell_type": "code",
   "execution_count": null,
   "id": "f5a9ae87",
   "metadata": {},
   "outputs": [],
   "source": [
    "class Attention(nn.Module):\n",
    "    def __init__(self, hidden_size):\n",
    "        super(Attention, self).__init__()\n",
    "        self.attn = nn.Linear(hidden_size * 2, hidden_size)\n",
    "        self.v = nn.Linear(hidden_size, 1, bias=False)\n",
    "\n",
    "    def forward(self, hidden, encoder_outputs):\n",
    "        seq_len = encoder_outputs.size(1)\n",
    "        hidden = hidden.repeat(seq_len, 1, 1).permute(1, 0, 2)\n",
    "        energy = torch.tanh(self.attn(torch.cat((hidden, encoder_outputs), dim=2)))\n",
    "        attention = self.v(energy).squeeze(2)\n",
    "        return torch.softmax(attention, dim=1)"
   ]
  },
  {
   "cell_type": "code",
   "execution_count": null,
   "id": "7987bff0",
   "metadata": {},
   "outputs": [],
   "source": [
    "class Decoder(nn.Module):\n",
    "    def __init__(self, output_size, embedding_size, hidden_size, attention):\n",
    "        super(Decoder, self).__init__()\n",
    "        self.output_size = output_size\n",
    "        self.attention = attention\n",
    "        self.embedding = nn.Embedding(output_size, embedding_size)\n",
    "        self.lstm = nn.LSTM(hidden_size + embedding_size, hidden_size, batch_first=True)\n",
    "        self.fc = nn.Linear(hidden_size * 2, output_size)\n",
    "\n",
    "    def forward(self, x, hidden, cell, encoder_outputs):\n",
    "        x = x.unsqueeze(1)\n",
    "        embedded = self.embedding(x)\n",
    "        attention_weights = self.attention(hidden, encoder_outputs).unsqueeze(1)\n",
    "        context = torch.bmm(attention_weights, encoder_outputs)\n",
    "        lstm_input = torch.cat((embedded, context), dim=2)\n",
    "        output, (hidden, cell) = self.lstm(lstm_input, (hidden, cell))\n",
    "        output = torch.cat((output.squeeze(1), context.squeeze(1)), dim=1)\n",
    "        prediction = self.fc(output)\n",
    "        return prediction, hidden, cell"
   ]
  },
  {
   "cell_type": "code",
   "execution_count": null,
   "id": "28bf1388",
   "metadata": {},
   "outputs": [],
   "source": [
    "class Seq2Seq(nn.Module):\n",
    "    def __init__(self, encoder, decoder, device):\n",
    "        super(Seq2Seq, self).__init__()\n",
    "        self.encoder = encoder\n",
    "        self.decoder = decoder\n",
    "        self.device = device\n",
    "\n",
    "    def forward(self, src, trg, teacher_forcing_ratio=0.5):\n",
    "        batch_size, trg_len = trg.shape\n",
    "        trg_vocab_size = self.decoder.output_size\n",
    "        outputs = torch.zeros(batch_size, trg_len, trg_vocab_size).to(self.device)\n",
    "        encoder_outputs, hidden, cell = self.encoder(src)\n",
    "        decoder_input = trg[:, 0]\n",
    "\n",
    "        for t in range(1, trg_len):\n",
    "            output, hidden, cell = self.decoder(decoder_input, hidden, cell, encoder_outputs)\n",
    "            outputs[:, t, :] = output\n",
    "            teacher_force = random.random() < teacher_forcing_ratio\n",
    "            top1 = output.argmax(1)\n",
    "            decoder_input = trg[:, t] if teacher_force else top1\n",
    "        return outputs"
   ]
  },
  {
   "cell_type": "markdown",
   "id": "02094d45",
   "metadata": {},
   "source": [
    "## Part 4: Training Setup and Loop"
   ]
  },
  {
   "cell_type": "code",
   "execution_count": null,
   "id": "6bbd6a46",
   "metadata": {},
   "outputs": [],
   "source": [
    "device = torch.device('cuda' if torch.cuda.is_available() else 'cpu')\n",
    "print(f\"Using device: {device}\")\n",
    "\n",
    "EMBEDDING_SIZE = 32\n",
    "HIDDEN_SIZE = 64\n",
    "LEARNING_RATE = 0.001\n",
    "NUM_EPOCHS = 100\n",
    "\n",
    "encoder = Encoder(twi_vocab_size, EMBEDDING_SIZE, HIDDEN_SIZE).to(device)\n",
    "attention = Attention(HIDDEN_SIZE).to(device)\n",
    "decoder = Decoder(eng_vocab_size, EMBEDDING_SIZE, HIDDEN_SIZE, attention).to(device)\n",
    "model = Seq2Seq(encoder, decoder, device).to(device)\n",
    "\n",
    "criterion = nn.CrossEntropyLoss(ignore_index=eng_word2idx['<pad>'])\n",
    "optimizer = optim.Adam(model.parameters(), lr=LEARNING_RATE)\n",
    "\n",
    "print(f\"Model has {sum(p.numel() for p in model.parameters() if p.requires_grad):,} trainable parameters\")"
   ]
  },
  {
   "cell_type": "code",
   "execution_count": null,
   "id": "9fa583f3",
   "metadata": {},
   "outputs": [],
   "source": [
    "for epoch in range(NUM_EPOCHS):\n",
    "    model.train()\n",
    "    epoch_loss = 0\n",
    "    for i, (src, trg, src_len, trg_len) in enumerate(dataloader):\n",
    "        src, trg = src.to(device), trg.to(device)\n",
    "        optimizer.zero_grad()\n",
    "        output = model(src, trg)\n",
    "        output_dim = output.shape[-1]\n",
    "        output = output[:, 1:].reshape(-1, output_dim)\n",
    "        trg = trg[:, 1:].reshape(-1)\n",
    "        loss = criterion(output, trg)\n",
    "        loss.backward()\n",
    "        optimizer.step()\n",
    "        epoch_loss += loss.item()\n",
    "    if (epoch + 1) % 10 == 0:\n",
    "        print(f\"Epoch {epoch+1}/{NUM_EPOCHS}, Loss: {epoch_loss / len(dataloader):.4f}\")"
   ]
  },
  {
   "cell_type": "markdown",
   "id": "bbdeea80",
   "metadata": {},
   "source": [
    "## Part 5: Saving Model and Translation"
   ]
  },
  {
   "cell_type": "code",
   "execution_count": null,
   "id": "d40874a3",
   "metadata": {},
   "outputs": [],
   "source": [
    "torch.save({\n",
    "    'encoder': encoder.state_dict(),\n",
    "    'decoder': decoder.state_dict(),\n",
    "    'twi_word2idx': twi_word2idx,\n",
    "    'twi_idx2word': twi_idx2word,\n",
    "    'eng_word2idx': eng_word2idx,\n",
    "    'eng_idx2word': eng_idx2word,\n",
    "}, 'twi_to_english_model.pt')"
   ]
  },
  {
   "cell_type": "code",
   "execution_count": null,
   "id": "8ae70d67",
   "metadata": {},
   "outputs": [],
   "source": [
    "def translate_sentence(model, sentence, twi_word2idx, twi_idx2word, eng_word2idx, eng_idx2word, device, max_length=50):\n",
    "    model.eval()\n",
    "    tokens = sentence.split()\n",
    "    indices = [twi_word2idx.get(token.lower(), twi_word2idx['<unk>']) for token in tokens]\n",
    "    src_tensor = torch.LongTensor(indices).unsqueeze(0).to(device)\n",
    "    encoder_outputs, hidden, cell = model.encoder(src_tensor)\n",
    "    trg_idx = [eng_word2idx['<sos>']]\n",
    "    for _ in range(max_length):\n",
    "        trg_tensor = torch.LongTensor([trg_idx[-1]]).to(device)\n",
    "        with torch.no_grad():\n",
    "            output, hidden, cell = model.decoder(trg_tensor, hidden, cell, encoder_outputs)\n",
    "        pred_token = output.argmax(1).item()\n",
    "        trg_idx.append(pred_token)\n",
    "        if pred_token == eng_word2idx['<eos>']:\n",
    "            break\n",
    "    translated = [eng_idx2word[idx] for idx in trg_idx if idx not in [eng_word2idx['<sos>'], eng_word2idx['<eos>'], eng_word2idx['<pad>']]]\n",
    "    return ' '.join(translated)"
   ]
  },
  {
   "cell_type": "markdown",
   "id": "ef0d6e4e",
   "metadata": {},
   "source": [
    "## Part 6: Testing the Model"
   ]
  },
  {
   "cell_type": "code",
   "execution_count": null,
   "id": "ad89a1ff",
   "metadata": {},
   "outputs": [],
   "source": [
    "print(\"Testing the model:\")\n",
    "print(\"=\" * 60)\n",
    "\n",
    "for i in range(len(twi_sentences)):\n",
    "    twi_sent = twi_sentences[i]\n",
    "    eng_sent = english_sentences[i]\n",
    "    translation = translate_sentence(model, twi_sent, twi_word2idx, twi_idx2word, eng_word2idx, eng_idx2word, device)\n",
    "    print(f\"Twi: {twi_sent}\")\n",
    "    print(f\"Expected: {eng_sent}\")\n",
    "    print(f\"Translated: {translation}\")\n",
    "    print(\"-\" * 50)"
   ]
  }
 ],
 "metadata": {},
 "nbformat": 4,
 "nbformat_minor": 5
}
